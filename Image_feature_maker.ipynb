{
  "nbformat": 4,
  "nbformat_minor": 0,
  "metadata": {
    "colab": {
      "provenance": []
    },
    "kernelspec": {
      "name": "python3",
      "display_name": "Python 3"
    },
    "language_info": {
      "name": "python"
    }
  },
  "cells": [
    {
      "cell_type": "code",
      "execution_count": null,
      "metadata": {
        "id": "lq2M5EG0ha_n",
        "colab": {
          "base_uri": "https://localhost:8080/",
          "height": 73
        },
        "outputId": "2329e1bc-e086-464a-9677-05dce3eef9c9"
      },
      "outputs": [
        {
          "output_type": "display_data",
          "data": {
            "text/plain": [
              "<IPython.core.display.HTML object>"
            ],
            "text/html": [
              "\n",
              "     <input type=\"file\" id=\"files-43371166-86e1-48f1-b31d-5c4c50fd7d87\" name=\"files[]\" multiple disabled\n",
              "        style=\"border:none\" />\n",
              "     <output id=\"result-43371166-86e1-48f1-b31d-5c4c50fd7d87\">\n",
              "      Upload widget is only available when the cell has been executed in the\n",
              "      current browser session. Please rerun this cell to enable.\n",
              "      </output>\n",
              "      <script>// Copyright 2017 Google LLC\n",
              "//\n",
              "// Licensed under the Apache License, Version 2.0 (the \"License\");\n",
              "// you may not use this file except in compliance with the License.\n",
              "// You may obtain a copy of the License at\n",
              "//\n",
              "//      http://www.apache.org/licenses/LICENSE-2.0\n",
              "//\n",
              "// Unless required by applicable law or agreed to in writing, software\n",
              "// distributed under the License is distributed on an \"AS IS\" BASIS,\n",
              "// WITHOUT WARRANTIES OR CONDITIONS OF ANY KIND, either express or implied.\n",
              "// See the License for the specific language governing permissions and\n",
              "// limitations under the License.\n",
              "\n",
              "/**\n",
              " * @fileoverview Helpers for google.colab Python module.\n",
              " */\n",
              "(function(scope) {\n",
              "function span(text, styleAttributes = {}) {\n",
              "  const element = document.createElement('span');\n",
              "  element.textContent = text;\n",
              "  for (const key of Object.keys(styleAttributes)) {\n",
              "    element.style[key] = styleAttributes[key];\n",
              "  }\n",
              "  return element;\n",
              "}\n",
              "\n",
              "// Max number of bytes which will be uploaded at a time.\n",
              "const MAX_PAYLOAD_SIZE = 100 * 1024;\n",
              "\n",
              "function _uploadFiles(inputId, outputId) {\n",
              "  const steps = uploadFilesStep(inputId, outputId);\n",
              "  const outputElement = document.getElementById(outputId);\n",
              "  // Cache steps on the outputElement to make it available for the next call\n",
              "  // to uploadFilesContinue from Python.\n",
              "  outputElement.steps = steps;\n",
              "\n",
              "  return _uploadFilesContinue(outputId);\n",
              "}\n",
              "\n",
              "// This is roughly an async generator (not supported in the browser yet),\n",
              "// where there are multiple asynchronous steps and the Python side is going\n",
              "// to poll for completion of each step.\n",
              "// This uses a Promise to block the python side on completion of each step,\n",
              "// then passes the result of the previous step as the input to the next step.\n",
              "function _uploadFilesContinue(outputId) {\n",
              "  const outputElement = document.getElementById(outputId);\n",
              "  const steps = outputElement.steps;\n",
              "\n",
              "  const next = steps.next(outputElement.lastPromiseValue);\n",
              "  return Promise.resolve(next.value.promise).then((value) => {\n",
              "    // Cache the last promise value to make it available to the next\n",
              "    // step of the generator.\n",
              "    outputElement.lastPromiseValue = value;\n",
              "    return next.value.response;\n",
              "  });\n",
              "}\n",
              "\n",
              "/**\n",
              " * Generator function which is called between each async step of the upload\n",
              " * process.\n",
              " * @param {string} inputId Element ID of the input file picker element.\n",
              " * @param {string} outputId Element ID of the output display.\n",
              " * @return {!Iterable<!Object>} Iterable of next steps.\n",
              " */\n",
              "function* uploadFilesStep(inputId, outputId) {\n",
              "  const inputElement = document.getElementById(inputId);\n",
              "  inputElement.disabled = false;\n",
              "\n",
              "  const outputElement = document.getElementById(outputId);\n",
              "  outputElement.innerHTML = '';\n",
              "\n",
              "  const pickedPromise = new Promise((resolve) => {\n",
              "    inputElement.addEventListener('change', (e) => {\n",
              "      resolve(e.target.files);\n",
              "    });\n",
              "  });\n",
              "\n",
              "  const cancel = document.createElement('button');\n",
              "  inputElement.parentElement.appendChild(cancel);\n",
              "  cancel.textContent = 'Cancel upload';\n",
              "  const cancelPromise = new Promise((resolve) => {\n",
              "    cancel.onclick = () => {\n",
              "      resolve(null);\n",
              "    };\n",
              "  });\n",
              "\n",
              "  // Wait for the user to pick the files.\n",
              "  const files = yield {\n",
              "    promise: Promise.race([pickedPromise, cancelPromise]),\n",
              "    response: {\n",
              "      action: 'starting',\n",
              "    }\n",
              "  };\n",
              "\n",
              "  cancel.remove();\n",
              "\n",
              "  // Disable the input element since further picks are not allowed.\n",
              "  inputElement.disabled = true;\n",
              "\n",
              "  if (!files) {\n",
              "    return {\n",
              "      response: {\n",
              "        action: 'complete',\n",
              "      }\n",
              "    };\n",
              "  }\n",
              "\n",
              "  for (const file of files) {\n",
              "    const li = document.createElement('li');\n",
              "    li.append(span(file.name, {fontWeight: 'bold'}));\n",
              "    li.append(span(\n",
              "        `(${file.type || 'n/a'}) - ${file.size} bytes, ` +\n",
              "        `last modified: ${\n",
              "            file.lastModifiedDate ? file.lastModifiedDate.toLocaleDateString() :\n",
              "                                    'n/a'} - `));\n",
              "    const percent = span('0% done');\n",
              "    li.appendChild(percent);\n",
              "\n",
              "    outputElement.appendChild(li);\n",
              "\n",
              "    const fileDataPromise = new Promise((resolve) => {\n",
              "      const reader = new FileReader();\n",
              "      reader.onload = (e) => {\n",
              "        resolve(e.target.result);\n",
              "      };\n",
              "      reader.readAsArrayBuffer(file);\n",
              "    });\n",
              "    // Wait for the data to be ready.\n",
              "    let fileData = yield {\n",
              "      promise: fileDataPromise,\n",
              "      response: {\n",
              "        action: 'continue',\n",
              "      }\n",
              "    };\n",
              "\n",
              "    // Use a chunked sending to avoid message size limits. See b/62115660.\n",
              "    let position = 0;\n",
              "    do {\n",
              "      const length = Math.min(fileData.byteLength - position, MAX_PAYLOAD_SIZE);\n",
              "      const chunk = new Uint8Array(fileData, position, length);\n",
              "      position += length;\n",
              "\n",
              "      const base64 = btoa(String.fromCharCode.apply(null, chunk));\n",
              "      yield {\n",
              "        response: {\n",
              "          action: 'append',\n",
              "          file: file.name,\n",
              "          data: base64,\n",
              "        },\n",
              "      };\n",
              "\n",
              "      let percentDone = fileData.byteLength === 0 ?\n",
              "          100 :\n",
              "          Math.round((position / fileData.byteLength) * 100);\n",
              "      percent.textContent = `${percentDone}% done`;\n",
              "\n",
              "    } while (position < fileData.byteLength);\n",
              "  }\n",
              "\n",
              "  // All done.\n",
              "  yield {\n",
              "    response: {\n",
              "      action: 'complete',\n",
              "    }\n",
              "  };\n",
              "}\n",
              "\n",
              "scope.google = scope.google || {};\n",
              "scope.google.colab = scope.google.colab || {};\n",
              "scope.google.colab._files = {\n",
              "  _uploadFiles,\n",
              "  _uploadFilesContinue,\n",
              "};\n",
              "})(self);\n",
              "</script> "
            ]
          },
          "metadata": {}
        },
        {
          "output_type": "stream",
          "name": "stdout",
          "text": [
            "Saving image_list.pkl to image_list.pkl\n"
          ]
        }
      ],
      "source": [
        "import pickle as pkl\n",
        "from google.colab import files\n",
        "upoads=files.upload()"
      ]
    },
    {
      "cell_type": "code",
      "source": [
        "uploads2=files.upload()"
      ],
      "metadata": {
        "colab": {
          "base_uri": "https://localhost:8080/",
          "height": 73
        },
        "id": "XdcxmaNOvgJI",
        "outputId": "9316426f-804e-4d64-9b8e-db3658fef3bf"
      },
      "execution_count": null,
      "outputs": [
        {
          "output_type": "display_data",
          "data": {
            "text/plain": [
              "<IPython.core.display.HTML object>"
            ],
            "text/html": [
              "\n",
              "     <input type=\"file\" id=\"files-9bf6bdc6-fe1e-4d7f-a0cd-d54d80d8ef87\" name=\"files[]\" multiple disabled\n",
              "        style=\"border:none\" />\n",
              "     <output id=\"result-9bf6bdc6-fe1e-4d7f-a0cd-d54d80d8ef87\">\n",
              "      Upload widget is only available when the cell has been executed in the\n",
              "      current browser session. Please rerun this cell to enable.\n",
              "      </output>\n",
              "      <script>// Copyright 2017 Google LLC\n",
              "//\n",
              "// Licensed under the Apache License, Version 2.0 (the \"License\");\n",
              "// you may not use this file except in compliance with the License.\n",
              "// You may obtain a copy of the License at\n",
              "//\n",
              "//      http://www.apache.org/licenses/LICENSE-2.0\n",
              "//\n",
              "// Unless required by applicable law or agreed to in writing, software\n",
              "// distributed under the License is distributed on an \"AS IS\" BASIS,\n",
              "// WITHOUT WARRANTIES OR CONDITIONS OF ANY KIND, either express or implied.\n",
              "// See the License for the specific language governing permissions and\n",
              "// limitations under the License.\n",
              "\n",
              "/**\n",
              " * @fileoverview Helpers for google.colab Python module.\n",
              " */\n",
              "(function(scope) {\n",
              "function span(text, styleAttributes = {}) {\n",
              "  const element = document.createElement('span');\n",
              "  element.textContent = text;\n",
              "  for (const key of Object.keys(styleAttributes)) {\n",
              "    element.style[key] = styleAttributes[key];\n",
              "  }\n",
              "  return element;\n",
              "}\n",
              "\n",
              "// Max number of bytes which will be uploaded at a time.\n",
              "const MAX_PAYLOAD_SIZE = 100 * 1024;\n",
              "\n",
              "function _uploadFiles(inputId, outputId) {\n",
              "  const steps = uploadFilesStep(inputId, outputId);\n",
              "  const outputElement = document.getElementById(outputId);\n",
              "  // Cache steps on the outputElement to make it available for the next call\n",
              "  // to uploadFilesContinue from Python.\n",
              "  outputElement.steps = steps;\n",
              "\n",
              "  return _uploadFilesContinue(outputId);\n",
              "}\n",
              "\n",
              "// This is roughly an async generator (not supported in the browser yet),\n",
              "// where there are multiple asynchronous steps and the Python side is going\n",
              "// to poll for completion of each step.\n",
              "// This uses a Promise to block the python side on completion of each step,\n",
              "// then passes the result of the previous step as the input to the next step.\n",
              "function _uploadFilesContinue(outputId) {\n",
              "  const outputElement = document.getElementById(outputId);\n",
              "  const steps = outputElement.steps;\n",
              "\n",
              "  const next = steps.next(outputElement.lastPromiseValue);\n",
              "  return Promise.resolve(next.value.promise).then((value) => {\n",
              "    // Cache the last promise value to make it available to the next\n",
              "    // step of the generator.\n",
              "    outputElement.lastPromiseValue = value;\n",
              "    return next.value.response;\n",
              "  });\n",
              "}\n",
              "\n",
              "/**\n",
              " * Generator function which is called between each async step of the upload\n",
              " * process.\n",
              " * @param {string} inputId Element ID of the input file picker element.\n",
              " * @param {string} outputId Element ID of the output display.\n",
              " * @return {!Iterable<!Object>} Iterable of next steps.\n",
              " */\n",
              "function* uploadFilesStep(inputId, outputId) {\n",
              "  const inputElement = document.getElementById(inputId);\n",
              "  inputElement.disabled = false;\n",
              "\n",
              "  const outputElement = document.getElementById(outputId);\n",
              "  outputElement.innerHTML = '';\n",
              "\n",
              "  const pickedPromise = new Promise((resolve) => {\n",
              "    inputElement.addEventListener('change', (e) => {\n",
              "      resolve(e.target.files);\n",
              "    });\n",
              "  });\n",
              "\n",
              "  const cancel = document.createElement('button');\n",
              "  inputElement.parentElement.appendChild(cancel);\n",
              "  cancel.textContent = 'Cancel upload';\n",
              "  const cancelPromise = new Promise((resolve) => {\n",
              "    cancel.onclick = () => {\n",
              "      resolve(null);\n",
              "    };\n",
              "  });\n",
              "\n",
              "  // Wait for the user to pick the files.\n",
              "  const files = yield {\n",
              "    promise: Promise.race([pickedPromise, cancelPromise]),\n",
              "    response: {\n",
              "      action: 'starting',\n",
              "    }\n",
              "  };\n",
              "\n",
              "  cancel.remove();\n",
              "\n",
              "  // Disable the input element since further picks are not allowed.\n",
              "  inputElement.disabled = true;\n",
              "\n",
              "  if (!files) {\n",
              "    return {\n",
              "      response: {\n",
              "        action: 'complete',\n",
              "      }\n",
              "    };\n",
              "  }\n",
              "\n",
              "  for (const file of files) {\n",
              "    const li = document.createElement('li');\n",
              "    li.append(span(file.name, {fontWeight: 'bold'}));\n",
              "    li.append(span(\n",
              "        `(${file.type || 'n/a'}) - ${file.size} bytes, ` +\n",
              "        `last modified: ${\n",
              "            file.lastModifiedDate ? file.lastModifiedDate.toLocaleDateString() :\n",
              "                                    'n/a'} - `));\n",
              "    const percent = span('0% done');\n",
              "    li.appendChild(percent);\n",
              "\n",
              "    outputElement.appendChild(li);\n",
              "\n",
              "    const fileDataPromise = new Promise((resolve) => {\n",
              "      const reader = new FileReader();\n",
              "      reader.onload = (e) => {\n",
              "        resolve(e.target.result);\n",
              "      };\n",
              "      reader.readAsArrayBuffer(file);\n",
              "    });\n",
              "    // Wait for the data to be ready.\n",
              "    let fileData = yield {\n",
              "      promise: fileDataPromise,\n",
              "      response: {\n",
              "        action: 'continue',\n",
              "      }\n",
              "    };\n",
              "\n",
              "    // Use a chunked sending to avoid message size limits. See b/62115660.\n",
              "    let position = 0;\n",
              "    do {\n",
              "      const length = Math.min(fileData.byteLength - position, MAX_PAYLOAD_SIZE);\n",
              "      const chunk = new Uint8Array(fileData, position, length);\n",
              "      position += length;\n",
              "\n",
              "      const base64 = btoa(String.fromCharCode.apply(null, chunk));\n",
              "      yield {\n",
              "        response: {\n",
              "          action: 'append',\n",
              "          file: file.name,\n",
              "          data: base64,\n",
              "        },\n",
              "      };\n",
              "\n",
              "      let percentDone = fileData.byteLength === 0 ?\n",
              "          100 :\n",
              "          Math.round((position / fileData.byteLength) * 100);\n",
              "      percent.textContent = `${percentDone}% done`;\n",
              "\n",
              "    } while (position < fileData.byteLength);\n",
              "  }\n",
              "\n",
              "  // All done.\n",
              "  yield {\n",
              "    response: {\n",
              "      action: 'complete',\n",
              "    }\n",
              "  };\n",
              "}\n",
              "\n",
              "scope.google = scope.google || {};\n",
              "scope.google.colab = scope.google.colab || {};\n",
              "scope.google.colab._files = {\n",
              "  _uploadFiles,\n",
              "  _uploadFilesContinue,\n",
              "};\n",
              "})(self);\n",
              "</script> "
            ]
          },
          "metadata": {}
        },
        {
          "output_type": "stream",
          "name": "stdout",
          "text": [
            "Saving refined_dataset.xlsx to refined_dataset.xlsx\n"
          ]
        }
      ]
    },
    {
      "cell_type": "code",
      "source": [
        "import pandas as pd\n",
        "import numpy as np\n",
        "df=pd.read_excel('refined_dataset.xlsx')"
      ],
      "metadata": {
        "id": "z3uurJNlwn1D"
      },
      "execution_count": null,
      "outputs": []
    },
    {
      "cell_type": "code",
      "source": [
        "df_new=pd.DataFrame()"
      ],
      "metadata": {
        "id": "bEtX5FUvvsns"
      },
      "execution_count": null,
      "outputs": []
    },
    {
      "cell_type": "code",
      "source": [
        "img_path=open(\"image_list.pkl\",'rb')\n",
        "img_list=pkl.load(img_path)\n",
        "print(img_list[0])"
      ],
      "metadata": {
        "colab": {
          "base_uri": "https://localhost:8080/"
        },
        "id": "X2CAvG2jmqBS",
        "outputId": "69ed682a-9927-4a15-d683-423da2002472"
      },
      "execution_count": null,
      "outputs": [
        {
          "output_type": "stream",
          "name": "stdout",
          "text": [
            "[[[193 133  79]\n",
            "  [198 147  97]\n",
            "  [193 138  87]\n",
            "  ...\n",
            "  [206 183 157]\n",
            "  [205 182 156]\n",
            "  [203 190 182]]\n",
            "\n",
            " [[195 137  86]\n",
            "  [195 138  87]\n",
            "  [202 145  93]\n",
            "  ...\n",
            "  [211 183 159]\n",
            "  [204 180 154]\n",
            "  [205 183 172]]\n",
            "\n",
            " [[198 141  89]\n",
            "  [194 137  86]\n",
            "  [197 140  89]\n",
            "  ...\n",
            "  [197 168 141]\n",
            "  [204 181 155]\n",
            "  [204 181 165]]\n",
            "\n",
            " ...\n",
            "\n",
            " [[123 116 107]\n",
            "  [100  94  79]\n",
            "  [112 108  89]\n",
            "  ...\n",
            "  [ 11  41  36]\n",
            "  [ 16  64  51]\n",
            "  [ 12  50  42]]\n",
            "\n",
            " [[109 102  85]\n",
            "  [108  99  89]\n",
            "  [ 98  93  81]\n",
            "  ...\n",
            "  [  3  53  41]\n",
            "  [ 19  70  60]\n",
            "  [ 43 126 112]]\n",
            "\n",
            " [[ 98  89  82]\n",
            "  [ 93  85  76]\n",
            "  [ 83  79  74]\n",
            "  ...\n",
            "  [ 53 125 185]\n",
            "  [ 39 112 184]\n",
            "  [ 58 131 209]]]\n"
          ]
        }
      ]
    },
    {
      "cell_type": "code",
      "source": [
        "df_new['img']=img_list\n",
        "df_new['cat']=df['categoryName']"
      ],
      "metadata": {
        "id": "IKmjww8lwfbv"
      },
      "execution_count": null,
      "outputs": []
    },
    {
      "cell_type": "code",
      "source": [
        "from sklearn.model_selection import train_test_split\n",
        "train_set,test=train_test_split(df_new,test_size=0.2)\n",
        "train_x=train_set['img']\n",
        "one_hot_encoded_data = pd.get_dummies(train_set, columns = ['cat'])\n",
        "train_y=one_hot_encoded_data.drop(columns=['img'])\n"
      ],
      "metadata": {
        "id": "Q8pcMNVZw59m"
      },
      "execution_count": null,
      "outputs": []
    },
    {
      "cell_type": "code",
      "source": [
        "print(train_x)"
      ],
      "metadata": {
        "colab": {
          "base_uri": "https://localhost:8080/"
        },
        "id": "9aYKhVt21Aik",
        "outputId": "b2953f00-c117-430c-9b0d-77fb7813f0ae"
      },
      "execution_count": null,
      "outputs": [
        {
          "output_type": "stream",
          "name": "stdout",
          "text": [
            "2340    [[[146, 159, 226], [216, 172, 139], [229, 175,...\n",
            "660     [[[30, 94, 65], [35, 67, 83], [121, 144, 152],...\n",
            "2199    [[[243, 243, 243], [244, 241, 226], [242, 235,...\n",
            "2761    [[[91, 81, 151], [85, 81, 152], [87, 80, 153],...\n",
            "2166    [[[237, 238, 236], [238, 239, 237], [241, 242,...\n",
            "                              ...                        \n",
            "120     [[[248, 243, 240], [247, 242, 239], [249, 245,...\n",
            "1988    [[[0.0, 0.0, 0.0], [0.0, 0.0, 0.0], [0.0, 0.0,...\n",
            "2117    [[[242, 217, 201], [241, 217, 199], [242, 217,...\n",
            "1540    [[[254, 254, 254], [254, 254, 254], [254, 254,...\n",
            "1906    [[[0.0, 0.0, 0.0], [0.0, 0.0, 0.0], [0.0, 0.0,...\n",
            "Name: img, Length: 2628, dtype: object\n"
          ]
        }
      ]
    },
    {
      "cell_type": "code",
      "source": [
        "import tensorflow\n",
        "import keras\n",
        "from keras import layers,Model,Input\n",
        "from keras.models import Sequential"
      ],
      "metadata": {
        "id": "zzQ04tehuBmW"
      },
      "execution_count": null,
      "outputs": []
    },
    {
      "cell_type": "code",
      "source": [
        "def make_model():\n",
        "  inp=Input(shape=(28,28,3))\n",
        "  conv1=layers.Conv2D(32,(3,3),activation='selu',kernel_initializer='he_uniform')(inp)\n",
        "  pool1=layers.MaxPool2D(2,2)(conv1)\n",
        "  conv2=layers.Conv2D(64,(3,3),activation='relu',kernel_initializer='he_uniform')(pool1)\n",
        "  pool2=layers.MaxPool2D(2,2)(conv2)\n",
        "  flt=layers.Flatten()(pool2)\n",
        "  mlp1=layers.Dense(256,activation='linear',name='dense1')(flt)\n",
        "  output=layers.Dense(11,activation='softmax')(mlp1)\n",
        "  model=Model(inputs=inp,outputs=output)\n",
        "  return model\n"
      ],
      "metadata": {
        "id": "X0Qroa5ruHYm"
      },
      "execution_count": null,
      "outputs": []
    },
    {
      "cell_type": "code",
      "source": [
        "from keras.preprocessing.image import ImageDataGenerator\n",
        "datagen=ImageDataGenerator()\n",
        "#train_x_new=datagen.fit(train_x)"
      ],
      "metadata": {
        "id": "7mIHmkmY7dJC"
      },
      "execution_count": null,
      "outputs": []
    },
    {
      "cell_type": "code",
      "source": [
        "print(train_x[0].shape)"
      ],
      "metadata": {
        "colab": {
          "base_uri": "https://localhost:8080/"
        },
        "id": "GDZVKPv_vMN0",
        "outputId": "182a9a5c-04da-403d-86ff-b8193b5bb1bf"
      },
      "execution_count": null,
      "outputs": [
        {
          "output_type": "stream",
          "name": "stdout",
          "text": [
            "(28, 28, 3)\n"
          ]
        }
      ]
    },
    {
      "cell_type": "code",
      "source": [
        "train_x_new=np.array(train_x.tolist()).reshape((2628,28,28,3))\n",
        "#for img in train_x:\n",
        "  #img_arr=np.array(img).reshape((28,28,3))\n",
        "  #train_x_new.append(img_arr)\n"
      ],
      "metadata": {
        "id": "YJ9YnlqEIQSC"
      },
      "execution_count": null,
      "outputs": []
    },
    {
      "cell_type": "code",
      "source": [
        "datagen.fit(train_x_new)"
      ],
      "metadata": {
        "id": "e1578fvjeLAw"
      },
      "execution_count": null,
      "outputs": []
    },
    {
      "cell_type": "code",
      "source": [
        "len(train_x_new)"
      ],
      "metadata": {
        "colab": {
          "base_uri": "https://localhost:8080/"
        },
        "id": "PQLPySNUwFTE",
        "outputId": "ba32e875-2fd9-480e-980f-c7b59cdf2deb"
      },
      "execution_count": null,
      "outputs": [
        {
          "output_type": "execute_result",
          "data": {
            "text/plain": [
              "2628"
            ]
          },
          "metadata": {},
          "execution_count": 15
        }
      ]
    },
    {
      "cell_type": "markdown",
      "source": [],
      "metadata": {
        "id": "lTY2bjnTccoi"
      }
    },
    {
      "cell_type": "code",
      "source": [
        "train_y_new=list()\n",
        "for y in train_y:\n",
        "  train_y_new"
      ],
      "metadata": {
        "id": "A3_ro-AKwRQ2"
      },
      "execution_count": null,
      "outputs": []
    },
    {
      "cell_type": "code",
      "source": [
        "mdl=make_model()\n",
        "mdl.compile(optimizer='adam',loss='categorical_crossentropy',metrics=['accuracy'])\n",
        "mdl.fit(train_x_new,train_y,epochs=10,batch_size=10)"
      ],
      "metadata": {
        "colab": {
          "base_uri": "https://localhost:8080/"
        },
        "id": "6fRRC7iluSiF",
        "outputId": "81de6894-d253-400c-ee62-61b6cdb65310"
      },
      "execution_count": null,
      "outputs": [
        {
          "output_type": "stream",
          "name": "stdout",
          "text": [
            "Epoch 1/10\n",
            "263/263 [==============================] - 4s 11ms/step - loss: 50.5619 - accuracy: 0.3497\n",
            "Epoch 2/10\n",
            "263/263 [==============================] - 4s 14ms/step - loss: 1.8452 - accuracy: 0.4193\n",
            "Epoch 3/10\n",
            "263/263 [==============================] - 3s 11ms/step - loss: 1.7305 - accuracy: 0.4269\n",
            "Epoch 4/10\n",
            "263/263 [==============================] - 3s 11ms/step - loss: 1.6849 - accuracy: 0.4346\n",
            "Epoch 5/10\n",
            "263/263 [==============================] - 3s 11ms/step - loss: 1.6701 - accuracy: 0.4418\n",
            "Epoch 6/10\n",
            "263/263 [==============================] - 4s 13ms/step - loss: 1.6547 - accuracy: 0.4441\n",
            "Epoch 7/10\n",
            "263/263 [==============================] - 3s 11ms/step - loss: 1.6482 - accuracy: 0.4486\n",
            "Epoch 8/10\n",
            "263/263 [==============================] - 3s 11ms/step - loss: 1.7621 - accuracy: 0.4395\n",
            "Epoch 9/10\n",
            "263/263 [==============================] - 3s 12ms/step - loss: 1.6789 - accuracy: 0.4357\n",
            "Epoch 10/10\n",
            "263/263 [==============================] - 3s 12ms/step - loss: 1.6586 - accuracy: 0.4463\n"
          ]
        },
        {
          "output_type": "execute_result",
          "data": {
            "text/plain": [
              "<keras.callbacks.History at 0x7fac2e591f10>"
            ]
          },
          "metadata": {},
          "execution_count": 17
        }
      ]
    },
    {
      "cell_type": "code",
      "source": [
        "intermediate_layer_model = Model(inputs=mdl.input,outputs=mdl.get_layer('dense1').output)\n",
        "intermediate_output = intermediate_layer_model.predict(train_x_new)"
      ],
      "metadata": {
        "id": "9VtBU46MvU80",
        "colab": {
          "base_uri": "https://localhost:8080/"
        },
        "outputId": "84ac3481-7795-460e-b07a-6615e5dadfc4"
      },
      "execution_count": null,
      "outputs": [
        {
          "output_type": "stream",
          "name": "stdout",
          "text": [
            "83/83 [==============================] - 1s 8ms/step\n"
          ]
        }
      ]
    },
    {
      "cell_type": "code",
      "source": [
        "test_x=test['img']\n",
        "print(test_x.shape)"
      ],
      "metadata": {
        "colab": {
          "base_uri": "https://localhost:8080/"
        },
        "id": "u-R94XTGHNUf",
        "outputId": "d0106bfa-8b30-4c0f-bcfe-a40456979236"
      },
      "execution_count": null,
      "outputs": [
        {
          "output_type": "stream",
          "name": "stdout",
          "text": [
            "(658,)\n"
          ]
        }
      ]
    },
    {
      "cell_type": "code",
      "source": [
        "test_x_new=np.array(test_x.tolist()).reshape((658,28,28,3))\n",
        "test_y=pd.get_dummies(test[''])"
      ],
      "metadata": {
        "id": "gch2coRzG-RC"
      },
      "execution_count": null,
      "outputs": []
    },
    {
      "cell_type": "code",
      "source": [
        "y_pred=mdl.predict(test_x_new)"
      ],
      "metadata": {
        "colab": {
          "base_uri": "https://localhost:8080/"
        },
        "id": "gspnGSk1HXv7",
        "outputId": "aa34b6ad-ce42-424a-9d65-e41fd54e7957"
      },
      "execution_count": null,
      "outputs": [
        {
          "output_type": "stream",
          "name": "stdout",
          "text": [
            "21/21 [==============================] - 0s 8ms/step\n"
          ]
        }
      ]
    },
    {
      "cell_type": "code",
      "source": [
        "print(y_pred)"
      ],
      "metadata": {
        "id": "Ea-m0lGMHtWB",
        "colab": {
          "base_uri": "https://localhost:8080/"
        },
        "outputId": "8c890d1a-8baa-4750-ab16-da793b4079cb"
      },
      "execution_count": null,
      "outputs": [
        {
          "output_type": "stream",
          "name": "stdout",
          "text": [
            "[[0.41040412 0.01155563 0.00265556 ... 0.17569484 0.02156099 0.06109858]\n",
            " [0.41040412 0.01155563 0.00265556 ... 0.17569484 0.02156099 0.06109858]\n",
            " [0.41040412 0.01155563 0.00265556 ... 0.17569484 0.02156099 0.06109858]\n",
            " ...\n",
            " [0.41040412 0.01155563 0.00265556 ... 0.17569484 0.02156099 0.06109858]\n",
            " [0.41040415 0.01155564 0.00265556 ... 0.17569485 0.02156099 0.06109858]\n",
            " [0.4517805  0.00995978 0.00217029 ... 0.14859946 0.02337495 0.04820997]]\n"
          ]
        }
      ]
    }
  ]
}