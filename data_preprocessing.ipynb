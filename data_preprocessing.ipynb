{
  "nbformat": 4,
  "nbformat_minor": 0,
  "metadata": {
    "colab": {
      "provenance": []
    },
    "kernelspec": {
      "name": "python3",
      "display_name": "Python 3"
    },
    "language_info": {
      "name": "python"
    }
  },
  "cells": [
    {
      "cell_type": "code",
      "source": [
        "import numpy as np\n",
        "import pandas as pd\n",
        "import numpy as np\n",
        "import requests\n",
        "from io import BytesIO\n",
        "from PIL import Image"
      ],
      "metadata": {
        "id": "pGqUCZVP0fn-"
      },
      "execution_count": 34,
      "outputs": []
    },
    {
      "cell_type": "code",
      "source": [
        "from google.colab import drive\n",
        "drive.mount('/content/drive')"
      ],
      "metadata": {
        "id": "W1_GFzWsliBJ",
        "colab": {
          "base_uri": "https://localhost:8080/"
        },
        "outputId": "9a3b7fd7-bc65-45d1-db69-49659532867e"
      },
      "execution_count": 2,
      "outputs": [
        {
          "output_type": "stream",
          "name": "stdout",
          "text": [
            "Mounted at /content/drive\n"
          ]
        }
      ]
    },
    {
      "cell_type": "code",
      "source": [
        "# importing the required modules\n",
        "import glob\n",
        "import pandas as pd\n",
        "\n",
        "cols = ['title','subTitle','imageUrls','categoryName','description','address','city','state','neighborhood',\n",
        "   'reviewsTags', 'totalScore']\n",
        "\n",
        "# cols1 = ['title','subTitle','categoryName','description','address','city','state','neighborhood',\n",
        "#    'reviewsTags', 'totalScore']\n",
        "\n",
        "# specifying the path to csv files\n",
        "path = \"/content/drive/MyDrive/IR Project Dataset/state-wise Dataset\"\n",
        "\n",
        "# csv files in the path\n",
        "file_list = glob.glob(path + \"/*.xlsx\")\n",
        "\n",
        "# list of excel files we want to merge.\n",
        "# pd.read_excel(file_path) reads the\n",
        "# excel data into pandas dataframe.\n",
        "excl_list = []\n",
        "images_df = []\n",
        "for file in file_list:\n",
        "  print(file)\n",
        "  data_df = pd.read_excel(file)\n",
        "  #----------------filling all missing values of 'state' feature -----------------\n",
        "  res = data_df[data_df['state'].notnull()]\n",
        "  state_value_to_fill = res['state'].iloc[0] \n",
        "  data_df['state'] = data_df['state'].fillna(state_value_to_fill)\n",
        "  #----------------------------------------x------------------------------------\n",
        "\n",
        "#----------------filling all missing values of 'city' feature -----------------\n",
        "  res = data_df[data_df['city'].notnull()]\n",
        "  state_value_to_fill = res['state'].iloc[0] \n",
        "  data_df['city'] = data_df['city'].fillna(state_value_to_fill)\n",
        "#----------------------------------------x------------------------------------\n",
        "\n",
        "  #---------------Replacing with subTitle value if any entry has nan in title feature----------\n",
        "  data_df['title'] = data_df['title'].mask(data_df['title'].isna(), data_df['subTitle'])\n",
        "#---------------------------------------------------------x-----------------------------------\n",
        "\n",
        "\n",
        "\n",
        "  #---------------Replacing with 'peopleSearchFor' value if any entry has nan in title feature----------\n",
        "  count = 0\n",
        "  people_search_for = ''\n",
        "  for i in data_df.columns:\n",
        "    if(i == 'peopleAlsoSearch'):\n",
        "      count = 2\n",
        "    elif(count == 2):\n",
        "      people_search_for = i\n",
        "      count = 0\n",
        "  data_df['title'] = data_df['title'].mask(data_df['title'].isna(), data_df[people_search_for])\n",
        "#---------------------------------------------------------x-----------------------------------\n",
        "\n",
        "\n",
        "\n",
        "#------------------------- Remove all entries that has nan in title feature ----------------------\n",
        "  dele_rows = list(data_df[data_df['title'].isnull()].index)\n",
        "  data_df = data_df.drop(dele_rows)\n",
        "#------------------------------------------x--------------------------------------\n",
        "\n",
        "#-------------------------Remove all enteries that has nan in categoryName feature\n",
        "  dele_rows = list(data_df[data_df['categoryName'].isnull()].index)\n",
        "  data_df = data_df.drop(dele_rows)\n",
        "#------------------------------------------------x------------------------------\n",
        "\n",
        "\n",
        "  #---------------Replacing with neighborhood value if any entry has nan in address feature----------\n",
        "  data_df['address'] = data_df['address'].mask(data_df['address'].isna(), data_df['neighborhood'])\n",
        "#----------------------------------------------x-----------------------------\n",
        "\n",
        "\n",
        "#------------------------- Replacing remaining entries that has nan in address feature with city/state name ----------------------\n",
        "  data_df['address'] = data_df['address'].mask(data_df['address'].isna(), data_df['city'])\n",
        "  data_df['address'] = data_df['address'].mask(data_df['address'].isna(), data_df['state'])\n",
        "  #------------------------------------------x--------------------------------------\n",
        "\n",
        "#---------------Replacing with neighborhood value if any entry has nan in address feature----------\n",
        "  data_df['neighborhood'] = data_df['neighborhood'].mask(data_df['neighborhood'].isna(), data_df['address'])\n",
        "#----------------------------------------------x-----------------------------\n",
        "\n",
        "  #------------------------- Replacing  entries that has nan in city feature with state name ----------------------\n",
        "  data_df['city'] = data_df['city'].mask(data_df['city'].isna(), data_df['state'])\n",
        "  #------------------------------------------x--------------------------------------\n",
        "\n",
        "  #------------------------- Replacing  entries that has nan in description feature ----------------------\n",
        "  data_df['description'] = data_df['description'].mask(data_df['description'].isna(), 'no information available')\n",
        "  #------------------------------------------x--------------------------------------\n",
        "\n",
        "\n",
        "    #------------------------- Replacing  entries that has nan in reviewTags feature with categoryName name ----------------------\n",
        "  data_df['reviewsTags'] = data_df['reviewsTags'].mask(data_df['reviewsTags'].isna(), data_df['categoryName'])\n",
        "  #------------------------------------------x--------------------------------------\n",
        "\n",
        "    #------------------------- Replacing  entries that has nan in totalScore feature ----------------------\n",
        "  data_df['totalScore'].fillna(data_df['totalScore'].median(), inplace=True)\n",
        "  #------------------------------------------x--------------------------------------\n",
        "\n",
        "\n",
        "\n",
        "  excl_list.append(data_df)\n",
        "  \n",
        "  #excl_list.append(pd.read_excel(file,usecols = cols))\n",
        "\n",
        "\n",
        "\n",
        "# concatenate all DataFrames in the list\n",
        "# into a single DataFrame, returns new\n",
        "# DataFrame.\n",
        "excl_merged = pd.concat(excl_list, ignore_index=True)\n",
        "\n",
        "# exports the dataframe into excel file\n",
        "# with specified name.\n",
        "excl_merged.to_excel('state_wise_data.xlsx', index=False)\n"
      ],
      "metadata": {
        "colab": {
          "base_uri": "https://localhost:8080/"
        },
        "id": "VjqDJKT_bdHX",
        "outputId": "049bee56-aa01-4e25-dd17-77c22db42009"
      },
      "execution_count": null,
      "outputs": [
        {
          "output_type": "stream",
          "name": "stdout",
          "text": [
            "/content/drive/MyDrive/IR Project Dataset/state-wise Dataset/maharashtra.xlsx\n",
            "/content/drive/MyDrive/IR Project Dataset/state-wise Dataset/delhi.xlsx\n",
            "/content/drive/MyDrive/IR Project Dataset/state-wise Dataset/himachalpradesh.xlsx\n",
            "/content/drive/MyDrive/IR Project Dataset/state-wise Dataset/uttarakhand.xlsx\n",
            "/content/drive/MyDrive/IR Project Dataset/state-wise Dataset/kerala.xlsx\n",
            "/content/drive/MyDrive/IR Project Dataset/state-wise Dataset/west bengal.xlsx\n",
            "/content/drive/MyDrive/IR Project Dataset/state-wise Dataset/telangana.xlsx\n",
            "/content/drive/MyDrive/IR Project Dataset/state-wise Dataset/tamil nadu.xlsx\n",
            "/content/drive/MyDrive/IR Project Dataset/state-wise Dataset/haryana.xlsx\n",
            "/content/drive/MyDrive/IR Project Dataset/state-wise Dataset/jammu and kashmir.xlsx\n",
            "/content/drive/MyDrive/IR Project Dataset/state-wise Dataset/Andaman and Nicobar Islands.xlsx\n",
            "/content/drive/MyDrive/IR Project Dataset/state-wise Dataset/Assam.xlsx\n",
            "/content/drive/MyDrive/IR Project Dataset/state-wise Dataset/Chandigarh.xlsx\n",
            "/content/drive/MyDrive/IR Project Dataset/state-wise Dataset/Chhattisgarh.xlsx\n",
            "/content/drive/MyDrive/IR Project Dataset/state-wise Dataset/Meghalaya.xlsx\n",
            "/content/drive/MyDrive/IR Project Dataset/state-wise Dataset/Odisha.xlsx\n",
            "/content/drive/MyDrive/IR Project Dataset/state-wise Dataset/Puducherry.xlsx\n",
            "/content/drive/MyDrive/IR Project Dataset/state-wise Dataset/Ladakh.xlsx\n",
            "/content/drive/MyDrive/IR Project Dataset/state-wise Dataset/Karnataka.xlsx\n",
            "/content/drive/MyDrive/IR Project Dataset/state-wise Dataset/jharkhand.xlsx\n",
            "/content/drive/MyDrive/IR Project Dataset/state-wise Dataset/Bihar.xlsx\n",
            "/content/drive/MyDrive/IR Project Dataset/state-wise Dataset/up.xlsx\n",
            "/content/drive/MyDrive/IR Project Dataset/state-wise Dataset/Arunachal Pradesh.xlsx\n",
            "/content/drive/MyDrive/IR Project Dataset/state-wise Dataset/sikkim.xlsx\n",
            "/content/drive/MyDrive/IR Project Dataset/state-wise Dataset/manipur.xlsx\n",
            "/content/drive/MyDrive/IR Project Dataset/state-wise Dataset/mirzoram.xlsx\n",
            "/content/drive/MyDrive/IR Project Dataset/state-wise Dataset/gujarat.xlsx\n",
            "/content/drive/MyDrive/IR Project Dataset/state-wise Dataset/mp.xlsx\n",
            "/content/drive/MyDrive/IR Project Dataset/state-wise Dataset/rajasthan.xlsx\n",
            "/content/drive/MyDrive/IR Project Dataset/state-wise Dataset/tripura.xlsx\n",
            "/content/drive/MyDrive/IR Project Dataset/state-wise Dataset/lakshadweep.xlsx\n",
            "/content/drive/MyDrive/IR Project Dataset/state-wise Dataset/Nagaland.xlsx\n"
          ]
        }
      ]
    },
    {
      "cell_type": "code",
      "source": [
        "# response = requests.get('https://lh5.googleusercontent.com/p/AF1QipN-94nW345oInCxyLvsmPFO_0MxS_K9jileT09Q=w1920-h1080-k-no')\n",
        "# image_io = BytesIO(response.content)\n",
        "\n",
        "# img = Image.open(image_io)\n",
        "# img = img.resize((150, 150)) # resize to 150x150x3\n",
        "# img = np.array(img)"
      ],
      "metadata": {
        "id": "lS4yjMCHV9wn"
      },
      "execution_count": null,
      "outputs": []
    },
    {
      "cell_type": "code",
      "source": [
        "travel_data = pd.read_excel('final_full_state_wise_data.xlsx')"
      ],
      "metadata": {
        "id": "Jp7stqjYvpZk"
      },
      "execution_count": 66,
      "outputs": []
    },
    {
      "cell_type": "code",
      "source": [
        "travel_data['imageUrls'].isnull().sum()"
      ],
      "metadata": {
        "colab": {
          "base_uri": "https://localhost:8080/"
        },
        "id": "m59jT07upX5u",
        "outputId": "d850446d-6bbd-4733-8de5-2ca66c9f51d5"
      },
      "execution_count": 67,
      "outputs": [
        {
          "output_type": "execute_result",
          "data": {
            "text/plain": [
              "515"
            ]
          },
          "metadata": {},
          "execution_count": 67
        }
      ]
    },
    {
      "cell_type": "code",
      "source": [
        "travel_data[travel_data['imageUrls'].isnull()].index"
      ],
      "metadata": {
        "colab": {
          "base_uri": "https://localhost:8080/"
        },
        "id": "_FnSHsslkdFY",
        "outputId": "0593e1ed-86fa-46d6-9f72-c12aa81ac3ff"
      },
      "execution_count": 44,
      "outputs": [
        {
          "output_type": "execute_result",
          "data": {
            "text/plain": [
              "Int64Index([ 214,  215,  218,  219,  220,  339,  434,  485,  744,  750,\n",
              "            ...\n",
              "            3221, 3230, 3231, 3235, 3237, 3242, 3243, 3245, 3246, 3259],\n",
              "           dtype='int64', length=515)"
            ]
          },
          "metadata": {},
          "execution_count": 44
        }
      ]
    },
    {
      "cell_type": "code",
      "source": [
        "missing_images_index = list(travel_data[travel_data['imageUrls'].isnull()].index)"
      ],
      "metadata": {
        "id": "TufDOjXdpNL-"
      },
      "execution_count": 68,
      "outputs": []
    },
    {
      "cell_type": "code",
      "source": [
        "len(missing_images_index)"
      ],
      "metadata": {
        "colab": {
          "base_uri": "https://localhost:8080/"
        },
        "id": "MRCb5pk1tN4m",
        "outputId": "1f6a3a6a-17e2-4c26-a2f3-ed08cd89fc53"
      },
      "execution_count": 70,
      "outputs": [
        {
          "output_type": "execute_result",
          "data": {
            "text/plain": [
              "515"
            ]
          },
          "metadata": {},
          "execution_count": 70
        }
      ]
    },
    {
      "cell_type": "code",
      "source": [
        "import requests\n",
        "from bs4 import BeautifulSoup\n",
        "for i in missing_images_index:\n",
        "  word = travel_data['title'][i]\n",
        "  if(pd.isnull(travel_data['imageUrls'][i])):\n",
        "    \n",
        "    url = 'https://www.google.com/search?q={0}&tbm=isch'.format(word)\n",
        "    content = requests.get(url).content\n",
        "    soup = BeautifulSoup(content,'lxml')\n",
        "    images = soup.findAll('img')\n",
        "    for image in images:\n",
        "      print(image.get('src'))\n",
        "      #travel_data['imageUrls'][i] = image.get('src')\n",
        "      break"
      ],
      "metadata": {
        "id": "3q3LhuNgpKoG"
      },
      "execution_count": null,
      "outputs": []
    },
    {
      "cell_type": "code",
      "source": [
        "pip install bing-image-urls"
      ],
      "metadata": {
        "colab": {
          "base_uri": "https://localhost:8080/"
        },
        "id": "868bKaasuDD9",
        "outputId": "52e02a16-3e7b-4484-f04b-4a2101f0007b"
      },
      "execution_count": 73,
      "outputs": [
        {
          "output_type": "stream",
          "name": "stdout",
          "text": [
            "Looking in indexes: https://pypi.org/simple, https://us-python.pkg.dev/colab-wheels/public/simple/\n",
            "Collecting bing-image-urls\n",
            "  Downloading bing_image_urls-0.1.5-py3-none-any.whl (7.1 kB)\n",
            "Collecting httpx<0.24.0,>=0.23.1\n",
            "  Downloading httpx-0.23.3-py3-none-any.whl (71 kB)\n",
            "\u001b[2K     \u001b[90m━━━━━━━━━━━━━━━━━━━━━━━━━━━━━━━━━━━━━━━━\u001b[0m \u001b[32m71.5/71.5 KB\u001b[0m \u001b[31m2.4 MB/s\u001b[0m eta \u001b[36m0:00:00\u001b[0m\n",
            "\u001b[?25hCollecting logzero<2.0.0,>=1.5.0\n",
            "  Downloading logzero-1.7.0-py2.py3-none-any.whl (16 kB)\n",
            "Collecting rfc3986[idna2008]<2,>=1.3\n",
            "  Downloading rfc3986-1.5.0-py2.py3-none-any.whl (31 kB)\n",
            "Collecting httpcore<0.17.0,>=0.15.0\n",
            "  Downloading httpcore-0.16.3-py3-none-any.whl (69 kB)\n",
            "\u001b[2K     \u001b[90m━━━━━━━━━━━━━━━━━━━━━━━━━━━━━━━━━━━━━━━━\u001b[0m \u001b[32m69.6/69.6 KB\u001b[0m \u001b[31m7.8 MB/s\u001b[0m eta \u001b[36m0:00:00\u001b[0m\n",
            "\u001b[?25hRequirement already satisfied: sniffio in /usr/local/lib/python3.8/dist-packages (from httpx<0.24.0,>=0.23.1->bing-image-urls) (1.3.0)\n",
            "Requirement already satisfied: certifi in /usr/local/lib/python3.8/dist-packages (from httpx<0.24.0,>=0.23.1->bing-image-urls) (2022.12.7)\n",
            "Collecting anyio<5.0,>=3.0\n",
            "  Downloading anyio-3.6.2-py3-none-any.whl (80 kB)\n",
            "\u001b[2K     \u001b[90m━━━━━━━━━━━━━━━━━━━━━━━━━━━━━━━━━━━━━━━━\u001b[0m \u001b[32m80.6/80.6 KB\u001b[0m \u001b[31m8.8 MB/s\u001b[0m eta \u001b[36m0:00:00\u001b[0m\n",
            "\u001b[?25hRequirement already satisfied: h11<0.15,>=0.13 in /usr/local/lib/python3.8/dist-packages (from httpcore<0.17.0,>=0.15.0->httpx<0.24.0,>=0.23.1->bing-image-urls) (0.14.0)\n",
            "Requirement already satisfied: idna in /usr/local/lib/python3.8/dist-packages (from rfc3986[idna2008]<2,>=1.3->httpx<0.24.0,>=0.23.1->bing-image-urls) (2.10)\n",
            "Installing collected packages: rfc3986, logzero, anyio, httpcore, httpx, bing-image-urls\n",
            "Successfully installed anyio-3.6.2 bing-image-urls-0.1.5 httpcore-0.16.3 httpx-0.23.3 logzero-1.7.0 rfc3986-1.5.0\n"
          ]
        }
      ]
    },
    {
      "cell_type": "code",
      "source": [
        "from bing_image_urls import bing_image_urls\n",
        "for i in missing_images_index:\n",
        "  word = travel_data['title'][i]\n",
        "  if(pd.isnull(travel_data['imageUrls'][i])):\n",
        "    url = bing_image_urls(word, limit=1)[0]\n",
        "    travel_data['imageUrls'][i] = url"
      ],
      "metadata": {
        "colab": {
          "base_uri": "https://localhost:8080/"
        },
        "id": "vOAUMYYbuUuU",
        "outputId": "51ae5db5-1278-41a8-9b27-79f6087d83a6"
      },
      "execution_count": 76,
      "outputs": [
        {
          "output_type": "stream",
          "name": "stderr",
          "text": [
            "<ipython-input-76-d0d8878a7271>:6: SettingWithCopyWarning: \n",
            "A value is trying to be set on a copy of a slice from a DataFrame\n",
            "\n",
            "See the caveats in the documentation: https://pandas.pydata.org/pandas-docs/stable/user_guide/indexing.html#returning-a-view-versus-a-copy\n",
            "  travel_data['imageUrls'][i] = url\n"
          ]
        }
      ]
    },
    {
      "cell_type": "code",
      "source": [
        "travel_data['imageUrls'].isnull().sum()"
      ],
      "metadata": {
        "colab": {
          "base_uri": "https://localhost:8080/"
        },
        "id": "7459-u95qUmm",
        "outputId": "bc963e60-b232-4f46-bd66-9bf2cfa0e7ba"
      },
      "execution_count": 77,
      "outputs": [
        {
          "output_type": "execute_result",
          "data": {
            "text/plain": [
              "0"
            ]
          },
          "metadata": {},
          "execution_count": 77
        }
      ]
    },
    {
      "cell_type": "code",
      "source": [
        "for i in missing_images_index:\n",
        "  print(travel_data['imageUrls'][i])"
      ],
      "metadata": {
        "colab": {
          "base_uri": "https://localhost:8080/"
        },
        "id": "S1IrGronumF0",
        "outputId": "d16f9d5a-d96d-4591-ed1b-04f48da37791"
      },
      "execution_count": 78,
      "outputs": [
        {
          "output_type": "stream",
          "name": "stdout",
          "text": [
            "https://janmatsamachar.com/wp-content/uploads/2020/07/images.jpeg-113.jpg\n",
            "http://www.pxleyes.com/images/contests/holy-moly-2/fullsize/Viewpoint-4ff5ca8bc4519_hires.jpg\n",
            "https://graynson.com/wp-content/uploads/2021/04/site-construction-scaled.jpeg\n",
            "https://lp-cms-production.imgix.net/2019-06/GettyImages-149353949_high.jpg?fit=crop&amp;q=40&amp;sharp=10&amp;vib=20&amp;auto=format&amp;ixlib=react-8.6.4\n",
            "https://www.holidify.com/images/bgImages/HIMACHAL-PRADESH.jpg\n",
            "https://www.tourmyindia.com/socialimg/uttarakhand-tourism.jpg\n",
            "http://www.beautifulpacific.com/fiji-holidays/pictures/Kadavu-01.jpg\n",
            "https://s.yimg.com/uu/api/res/1.2/9B12O3rmbGd4rlWTw_sjIA--~B/aD0zMzMzO3c9NTAwMDtzbT0xO2FwcGlkPXl0YWNoeW9u/https://media-mbst-pub-ue1.s3.amazonaws.com/creatr-images/2019-08/f05a0150-bf9a-11e9-889d-4965fab2ec1e\n",
            "https://i.ytimg.com/vi/UtVvSDrpOMc/maxresdefault.jpg\n",
            "https://www.toptamilnews.com/static/c1e/client/88252/uploaded/7cea09b48120603052376715172beedd.gif\n",
            "https://saravanamanian.files.wordpress.com/2021/05/images84.jpg?w=678\n",
            "https://www.travelandleisureindia.in/wp-content/uploads/2018/09/Peaceful-Places-Feature.jpg\n",
            "http://globalholidaycentre.com/wp-content/uploads/2014/08/ooty-3.jpg\n",
            "https://www.vvthistory.com/wp-content/uploads/2021/03/nediyakadu_temple.jpg\n",
            "https://live.staticflickr.com/1675/24595457955_5220da3af2_b.jpg\n",
            "https://gumlet.assettype.com/vikatan/2020-06/a5745cd2-2ace-4aa3-8dde-290c468181dd/384167.jpg?auto=format%2Ccompress&amp;w=1200\n",
            "https://4malayalees.com/malayalamNews/135034.jpg\n",
            "https://www.kanyakumaricabs.in/images/Place/mathur-aqueduct.jpg\n",
            "https://i.ytimg.com/vi/IfbYjLOKkNw/maxresdefault.jpg\n",
            "https://i.ytimg.com/vi/H3n8-6qygwY/maxresdefault.jpg\n",
            "https://www.jagranimages.com/images/10_06_2015-brajeswari.jpg\n",
            "https://dolanyok.com/wp-content/uploads/2018/10/Transformer-Park-Solo-rini.rin_.rini_.jpg\n",
            "http://amitoz-singh.com/wp-content/uploads/2014/02/AmritsarBoltOnsIndia-49631242319196_800_600.jpg\n",
            "https://lookaside.fbsbx.com/lookaside/crawler/media/?media_id=100028836774432\n",
            "https://thepoint.gm/assets/_library/2015/5/master_jabbi__ScaleMaxWidthWzcwMF0.jpg\n",
            "https://imgeng.jagran.com/images/2020/jan/18_02_2019-pulwama-encounter_1896213915612851769081578799061061.jpg\n",
            "https://kashmirmountains.com/wp-content/uploads/Doodh-Pather.jpg\n",
            "https://theins.in/wp-content/uploads/2018/11/FB_IMG_1543007438902-1-1.jpg\n",
            "https://www.contentotourism.com/wp-content/uploads/2019/12/Featured-image4.jpg\n",
            "https://static.toiimg.com/photo/msid-58591955,width-96,height-65.cms\n",
            "https://www.hcn.org/articles/birds-studying-seabirds-the-sentinels-of-the-ocean/drone-the-watch-jpg/image\n",
            "https://andamantourism.org.in/images/tourist-places/defence-islands-andaman/defence-islands-andaman-tourism-entry-ticket-price.jpg\n",
            "http://www.naturalhealingenergy.info/wordpress/wp-content/uploads/2011/09/Labyrinth_8_20_11-0031.jpg\n",
            "http://www.indiamike.com/files/images/97/29/41/great-andaman.jpg\n",
            "https://airlines-airports.com/wp-content/uploads/2016/10/Andaman-nicobar-port-blair.jpg\n",
            "https://wallpaperaccess.com/full/1421532.jpg\n",
            "https://www.tripsavvy.com/thmb/AcM52CThkZm2QWViC--SkNTYdeA=/3216x2136/filters:fill(auto,1)/GettyImages-500286517-42e99117fa2240b5b854b93e1c9529d6.jpg\n",
            "https://i.redd.it/4qeh6i8zl6r11.jpg\n",
            "https://hhib.b-cdn.net/wp-content/uploads/2019/05/assam.jpg\n",
            "https://hhib.b-cdn.net/wp-content/uploads/2019/05/assam.jpg\n",
            "https://img.veenaworld.com/wp-content/uploads/2019/08/Guwahati-Planetarium.jpg?imwidth=1080\n",
            "https://happyho.in/wp-content/uploads/2016/01/chandigarh.jpg\n",
            "http://www.topcount.co/wp-content/uploads/2015/06/bhoramdeo.jpg\n",
            "https://nwa.mah.nic.in/sdmc/irrigation_hindi/images/07_12.jpg\n",
            "https://d368ufu7xgcs86.cloudfront.net/24574-1584044038.jpg\n",
            "https://www.trawell.in/admin/images/upload/195195237Cherrapunji_Dainthlen_Waterfalls_Main.jpg\n",
            "https://onhisowntrip.com/wp-content/uploads/2020/08/70773425_174635343720291_1425066876019447959_n.jpg\n",
            "https://www.tripiwiki.com/images/places/uploads/Tura-Peak75769.jpg\n",
            "https://cdn.thecrazytourist.com/wp-content/uploads/2018/10/ccimage-shutterstock_1013556058.jpg\n",
            "https://i.ytimg.com/vi/8U7gal3x2nY/maxresdefault.jpg\n",
            "https://www.tyhotels.co.in/cdn/places/Shillong/Capt_Williamson_Sangma_State_Museum_Shillong/Capt_Williamson_Sangma_State_Museum_Shillong117.jpg\n",
            "https://www.trawell.in/admin/images/upload/648495343Shillong_Ever_Living_Museum_Main.jpg\n",
            "https://www.iamarsalan.com/wp-content/uploads/2020/07/Pait-Kharab-Ka-ilaj.jpg\n",
            "https://i.pinimg.com/736x/31/48/86/314886bb03aa242acf6192414590a2e3.jpg\n",
            "https://i.ytimg.com/vi/rPgy1AXJcPU/maxresdefault.jpg\n",
            "https://im.whatshot.in/img/2020/Sep/24000-d-1599040554.jpg\n",
            "https://www.taleof2backpackers.com/wp-content/uploads/2018/05/Nonghkhnum-Island_Meghalaya-8.jpg\n",
            "http://upload.wikimedia.org/wikipedia/commons/3/36/Hopetoun_falls.jpg\n",
            "https://www.tripiwiki.com/images/places/uploads/Cherrapunjee50225.jpg\n",
            "http://naturalholidays.in/images/mawsynram.jpg\n",
            "https://shillong.cantt.gov.in/wp-content/uploads/sites/21/2020/10/Slider2-1400x390_c.png\n",
            "https://4.bp.blogspot.com/-bBnN3LBetco/WP8twVqz2sI/AAAAAAAALoY/PzmdpxbgM5gVV_UMGpnU0BKkWLOayAWeACLcB/s1600/Pemikiran%2BFilosofis%2BGilbert%2BRyle.png\n",
            "https://i.pinimg.com/originals/2f/8c/b3/2f8cb38f7ce1b21cf871588c5c22ba44.jpg\n",
            "https://www.tripexperienceblog.com/wp-content/uploads/2021/05/Mawsmai-Nongthymmai-Eco-Park-768x576.jpg\n",
            "https://photos1.blogger.com/blogger/2936/1998/1600/mg5-2.jpg\n",
            "https://thejerker.com/wp-content/uploads/2022/01/God-Rock.jpg\n",
            "https://content.phuket101.net/wp-content/uploads/20181202225642/kata-viewpoint-phuket-1398x932.jpg\n",
            "https://www.treksandtrails.org/blog/wp-content/uploads/2020/08/Nandi-Hills-1140x512.jpg\n",
            "https://live.staticflickr.com/8048/8097367362_4760473267_b.jpg\n",
            "https://images.fineartamerica.com/images/artworkimages/mediumlarge/1/acriggs-falls-jim-cheney.jpg\n",
            "https://www.nativeplanet.com/photos/original/2017/11/_15109253260.jpg\n",
            "https://www.meghalayatourism.in/wp-content/uploads/2020/07/Arwah-Cave-1.jpg\n",
            "https://i.pinimg.com/736x/e5/d8/ea/e5d8eaabd2682be20c5f0590eefbcdf4--roots-bridges.jpg\n",
            "https://i.pinimg.com/originals/63/a9/41/63a9419193602cc2f01d20257bfa8cfa.jpg\n",
            "https://www.tripiwiki.com/images/places/uploads/Kynrem-Falls24197.jpg\n",
            "https://www.thetoptours.com/wp-content/uploads/butterfly-museum-shillong-1200x675.jpg\n",
            "https://www.tripiwiki.com/images/places/uploads/Cherrapunjee50225.jpg\n",
            "http://eastgarohills.gov.in/img/core/tourism/mrik06.jpg\n",
            "http://www.dividendhomes.com/wp-content/uploads/2016/04/viewpoint.jpg\n",
            "https://st.adda247.com/https://wpassets.adda247.com/wp-content/uploads/multisite/sites/5/2022/10/31091704/195195602Cherrapunji_Mawmluh_Cave_Main.jpg\n",
            "https://i.ytimg.com/vi/CtVvbNl_dUM/hqdefault.jpg\n",
            "https://i.ytimg.com/vi/_riAlkx9N7Y/maxresdefault.jpg\n",
            "https://travelazzi.com/wp-content/uploads/2019/08/Elephant_Falls_shillong-1160x771.jpg\n",
            "http://holidaylife.in/wp-content/uploads/2017/08/SHILLONG.jpg\n",
            "https://s.hdnux.com/photos/01/15/46/24/20342070/3/1200x0.jpg\n",
            "https://www.oyorooms.com/travel-guide/wp-content/uploads/2019/06/Nohkalikai-Falls.jpg\n",
            "https://2.bp.blogspot.com/-yO00tN2-jbI/WW60-f_QsPI/AAAAAAAAADs/_vyfu-7G0XsBrRn-oPw74h0dxPPDRvtwgCLcBGAs/s1600/Tathagatha%2BTsal%252C%2BRavongla%252C%2BSouth%2BSikkim.jpg\n",
            "https://content.phuket101.net/wp-content/uploads/20190124233651/karon-viewpoint-phuket.jpg\n",
            "https://www.meghalayatourism.in/wp-content/uploads/2020/08/Khasi-Hills-Mawphanlur.jpg\n",
            "https://i.pinimg.com/originals/1f/c8/e1/1fc8e160026a053f74f66b1a4ae4c3f3.jpg\n",
            "https://preview.redd.it/d6176fyfigw21.jpg?auto=webp&amp;s=5ebb2ec9a4437ef4a51aaf464ddceafc8379b490\n",
            "http://www.tourism-of-india.com/pictures/travel_guide/attractions/umiam-lake-head-412.jpeg\n",
            "http://upload.wikimedia.org/wikipedia/commons/c/c5/Moraine_Lake_17092005.jpg\n",
            "https://www.telegraph.co.uk/content/dam/Travel/Destinations/Asia/Hong Kong/tai-o-village-hong-kong-2.jpg\n",
            "https://www.meghalayatourism.in/wp-content/uploads/2020/08/Khasi-Hills-Mawphanlur.jpg\n",
            "https://www.trawell.in/admin/images/upload/648495912Shillong_Ward's_Lake_Main.jpg\n",
            "https://www.taleof2backpackers.com/wp-content/uploads/2018/06/David-Scott-Trail.jpg\n",
            "https://thumbs.dreamstime.com/z/nehru-park-summer-shot-meghalaya-india-lum-nehru-park-located-adjacent-to-orchid-lake-resort-umiam-km-shillong-121010757.jpg\n",
            "https://1.bp.blogspot.com/-Qr8aAIjTSPQ/WeGeeb2bBsI/AAAAAAAAV_U/69Tz6IZFk14bMxRWzyEJME7xBfHommxhgCEwYBhgL/s1600/place-2015-10-13-12-Davidscottmemorial69282f359891019d45e97c907fe7fa22.jpg\n",
            "https://imgmedia.lbb.in/media/2019/10/5daf45c4a9c8180784e9d39d_1571767748338.jpg\n",
            "https://www.meghalayatourism.in/wp-content/uploads/2022/08/MAWJNGIH-LAPYNSHONGDOR-VIEW-POINT.jpg\n",
            "https://i.pinimg.com/originals/fa/f1/8d/faf18d33115f9a3ce6999ad9370eb0d3.jpg\n",
            "https://www.oyorooms.com/travel-guide/wp-content/uploads/2019/06/Nohkalikai-Falls.jpg\n",
            "https://neelstoria.files.wordpress.com/2019/05/img_7878.jpg?w=1680\n",
            "https://www.holidify.com/images/cmsuploads/compressed/2019011686-1024x683_20220223190721.jpeg\n",
            "https://i.pinimg.com/originals/40/4c/06/404c068d604076993d2f86c8047ab49b.jpg\n",
            "https://www.burohappold.com/wp-content/uploads/2018/01/national-history-museum_00_chloe-kembery.jpg\n",
            "https://pickyourtrail.com/blog/wp-content/uploads/2020/05/Meghalaya.jpg\n",
            "https://i2.wp.com/www.eastmojo.com/wp-content/uploads/2020/02/WhatsApp_Image_2020_02_24_at_14_31_33.jpeg?w=1280&amp;ssl=1\n",
            "https://www.tourmyindia.com/socialimg/all-saints-cathedral-church-prayagraj.jpg\n",
            "https://th-thumbnailer.cdn-si-edu.com/wqrrpLrLJm2M5MmfvFb7lqm5Aok=/fit-in/1072x0/https://tf-cmsv2-photocontest-smithsonianmag-prod-approved.s3.amazonaws.com/cf0b68b8-981c-4654-ad9d-820d6cad17a3.jpg\n",
            "https://i.ytimg.com/vi/CqOEI_DrU58/maxresdefault.jpg\n",
            "http://photos.wikimapia.org/p/00/02/77/96/88_full.jpg\n",
            "https://i.ytimg.com/vi/OYpHhdKBvs0/maxresdefault.jpg\n",
            "https://www.othingstodo.com/wp-content/uploads/2021/10/Beadon-Bishop-View-Point.jpg\n",
            "https://www.meghalayatourism.in/wp-content/uploads/2020/08/Khasi-Hills-Mawphanlur-1-1536x1024.jpg\n",
            "https://imgs.mongabay.com/wp-content/uploads/sites/30/2020/10/30125241/Khasi-Hills-Mawphlang.jpg\n",
            "https://farm5.staticflickr.com/4709/39504695064_ce1fd42c57_b.jpg\n",
            "https://nenow.in/wp-content/uploads/2018/08/Wah-Rashi-Fallsjpg.jpg\n",
            "https://d2rdhxfof4qmbb.cloudfront.net/wp-content/uploads/20191022173034/Bamboo-trek-to-Mawryngkhang-1024x575.jpg\n",
            "https://static.toiimg.com/thumb/msid-81929143,width-748,height-499,resizemode=4,imgsize-277711/Khreng-Khreng-Viewpoint.jpg\n",
            "https://farm5.staticflickr.com/4228/34036648353_1aa8646392_k_d.jpg\n",
            "https://www.nerdstravel.com/wp-content/uploads/2020/06/The-Maswmai-Falls.jpg\n",
            "https://www.holidify.com/images/cmsuploads/compressed/Cathedral_of_Mary_Help_of_Christians_Shillong_1_20190715110521.jpeg\n",
            "https://travenjo.com/wp-content/uploads/2019/06/UmiamBarapani-Lake-Shillong.jpg\n",
            "https://i.pinimg.com/originals/c5/69/e3/c569e32fa9828fdf94b164c01ac92ab0.jpg\n",
            "https://wonderfulengineering.com/wp-content/uploads/2017/08/Mawlynnong-Cleanest-Village-in-Asia-2.jpg\n",
            "https://i.pinimg.com/originals/f3/02/08/f30208814486a1a95f2a12ff2f7eefd4.jpg\n",
            "https://media-cdn.tripadvisor.com/media/photo-s/0e/a3/6b/f5/pelga-falls.jpg\n",
            "https://www.team-bhp.com/forum/attachments/travelogues/1836221d1547198189t-nokrek-national-park-west-garo-hills-meghalaya-949.jpg\n",
            "https://i.pinimg.com/736x/ca/46/1b/ca461b42bc6083d51aa3390aac061137.jpg\n",
            "https://www.trawell.in/admin/images/upload/123720215Jowai_Ialong_Park_Main.jpg\n",
            "https://image3.mouthshut.com/images/imagesp/925753420s.jpg\n",
            "https://i.ytimg.com/vi/_xAcLhI95Ec/maxresdefault.jpg\n",
            "https://4.bp.blogspot.com/-TBPlsCRmgYA/WD8GWuOwEaI/AAAAAAAAAA4/NPovVss5Ss49DYYS2Fo6UPgvQMNVeOWvACK4B/s1600/IMG_20161022_124356.jpg\n",
            "http://www.indiamike.com/files/images/71/13/41/mawthadraishan-peak--highest-point-in-west-khasi-hills.jpg\n",
            "https://woub.org/wp-content/uploads/2016/06/air-force-museum-hanger.jpg\n",
            "https://images.fineartamerica.com/images/artworkimages/mediumlarge/2/tyrshi-falls-jaintia-hills-meghalaya-dibyendu-das.jpg\n",
            "https://pixahive.com/wp-content/uploads/2020/11/Kynrem-falls-in-Meghalaya-178510-pixahive.jpg\n",
            "https://thumbs.dreamstime.com/z/wah-kaba-falls-waterfalls-cherrapunji-plateau-wettest-place-earth-east-khasi-hils-meghalaya-north-india-159168733.jpg\n",
            "https://images.world-of-waterfalls.com/Rainbow_Falls_013_07052002.jpg\n",
            "https://media.tripinvites.com/places/shillong/lady-hydari-park/beautiful-garden-at-lady-hydari-park-featured.jpg\n",
            "https://3.bp.blogspot.com/-350AJMd3SLU/V1cLso6bOEI/AAAAAAAAqMI/sF2s4gaKg445OBuPOafzi4xeTTaCPgQLACLcB/s1600/DSC_0248.JPG\n",
            "https://media-cdn.tripadvisor.com/media/photo-s/12/c4/2c/b3/garden-of-caves.jpg\n",
            "https://www.trawell.in/admin/images/upload/648495623Shillong_Khasi_Heritage_Village_Main.jpg\n",
            "https://www.meghalayatourism.in/wp-content/uploads/2020/07/Arwah-Cave-1.jpg\n",
            "https://i1.wp.com/theshillongtimes.com/wp-content/uploads/2020/05/DSC_7943-scaled.jpg?fit=2560%2C1627\n",
            "https://toim.b-cdn.net/pictures/travel_guide/attractions/spread-eagle-falls-shillong-head-435.jpeg\n",
            "https://www.trawell.in/admin/images/upload/648495156Shillong_Kyllang_Rock_Main.jpg\n",
            "https://www.trawell.in/admin/images/upload/64849544Shillong_Laitlum_Canyon_Main.jpg\n",
            "https://www.trulynomadly.com/wp-content/uploads/2018/05/FullSizeRender-1-min.jpg\n",
            "https://i.ytimg.com/vi/nnlp4kFj4yQ/maxresdefault.jpg\n",
            "https://ak.jogurucdn.com/media/image/p25/place-2015-10-13-7-Mawsmaicave2ee8b3caadc431a5a873fc186e356fc9.jpg\n",
            "https://travenjo.com/wp-content/uploads/2019/06/UmiamBarapani-Lake-Shillong.jpg\n",
            "https://travelazzi.com/wp-content/uploads/2019/08/Elephant_Falls_shillong-1160x771.jpg\n",
            "https://www.ancient-origins.net/sites/default/files/field/image/the-Konark-Sun-Temple-Revealed.jpg\n",
            "https://bengaltourplans.com/wp-content/uploads/2020/07/satkosia-tour-plan.jpg\n",
            "https://i.ytimg.com/vi/tZM78CzpQCE/maxresdefault.jpg\n",
            "https://www.explorebees.com/uploads/Regional Museum of Natural History.jpg\n",
            "https://2.bp.blogspot.com/-JkzJuvLszrc/WPW5si9U8vI/AAAAAAAAAYY/p5R9SPqpX_E-RQ20t39qivUUQyi5SP97gCPcB/s1600/DSC02127.JPG\n",
            "https://nmk.world/wp-content/uploads/2022/02/konark-1.jpg\n",
            "https://bhubaneswartourism.in/images/places-to-visit/headers/biju-patnaik-park-bhubaneswar-tourism-entry-fee-timings-holidays-reviews-header.jpg\n",
            "https://i.pinimg.com/originals/61/01/9e/61019e88d9ebcabc7e9a78ec92d52740.jpg\n",
            "https://austria-forum.org/attach/Geography/Asia/India/Pictures/From_Puri_to_Cuttack/Cuttack_-_Odisha_State_Maritime_Museum_1/DSC02678CuttackMuseumjpg.jpg\n",
            "https://images.mapsofworld.com/allwonders/2014/12/NiccoPark.jpg\n",
            "https://qph.fs.quoracdn.net/main-qimg-dfd7a5529c143731053e3d469e11f182\n",
            "https://pragativadi.com/wp-content/uploads/2021/03/IMG20210310185822-scaled.jpg\n",
            "https://i.ytimg.com/vi/ZTSSJNHHCeY/maxresdefault.jpg\n",
            "https://soulengrossed.files.wordpress.com/2020/07/20200717_143643-01244175796410352597.jpeg?w=1400\n",
            "http://photos.wikimapia.org/p/00/03/34/93/36_full.jpg\n",
            "https://odishabarta.com/wp-content/uploads/2021/12/eco_spot.jpeg?v=1639717886\n",
            "https://media-cdn.tripadvisor.com/media/photo-s/15/b0/1a/6b/this-is-an-unforgettable.jpg\n",
            "https://media.istockphoto.com/photos/sipisu-pisu-waterfall-picture-id655307464\n",
            "https://3.bp.blogspot.com/-JssB2skXfy8/V5twc666n3I/AAAAAAABS-8/cEcz4BPZ4XAhMFxRKY2D9vnriL3FqgeXQCK4B/s1600/IMG_20160728_125454-758975.jpg\n",
            "https://i.ytimg.com/vi/ag00vX_y_Aw/hqdefault.jpg\n",
            "https://www.enduherbs.org/wp-content/uploads/2019/12/กระชาย.jpg\n",
            "https://blogs.revv.co.in/blogs/wp-content/uploads/2020/05/Dhauli.jpg\n",
            "https://www.holidify.com/images/cmsuploads/compressed/Untitled_20191122133712.png\n",
            "https://i.ytimg.com/vi/Ce5H0RkGjZs/maxresdefault.jpg\n",
            "https://1.bp.blogspot.com/-yRilh1leCXk/WAEDGiwT1AI/AAAAAAAAAKc/FiEs8SABpmIN6xt3HhgYLUG9g0O_5jmGQCLcB/s1600/DSCN3841.JPG\n",
            "http://i.ytimg.com/vi/ExKtAbq9XQI/maxresdefault.jpg\n",
            "https://i.ytimg.com/vi/5C3LAjRD1dc/maxresdefault.jpg\n",
            "https://www.christies.com/img/LotImages/2014/PAR/2014_PAR_03608_0374_000(rare_statue_de_padmasambhava_en_bronze_tibet_xveme_siecle091803).jpg\n",
            "https://3.bp.blogspot.com/-cwSPODzbxdw/U3UjPy2-3VI/AAAAAAACyXQ/qug8Sejbcis/s1600/Angali+Pangali+Movie+Stills+(2).jpg\n",
            "https://i.ytimg.com/vi/9DeqHreRMRs/maxresdefault.jpg\n",
            "https://ihplb.b-cdn.net/wp-content/uploads/2021/11/Golden-Beach-1-1-500x300.jpg\n",
            "https://i.ytimg.com/vi/jUPcEgGFxFs/maxresdefault.jpg\n",
            "https://i.ytimg.com/vi/O98weDL47Vg/maxresdefault.jpg\n",
            "https://images.pexels.com/photos/1231041/pexels-photo-1231041.jpeg?cs=srgb&amp;dl=brown-pagoda-temple-near-green-trees-under-blue-sky-at-1231041.jpg&amp;fm=jpg\n",
            "http://upload.wikimedia.org/wikipedia/commons/3/3b/Cheondang_Waterfall_at_Seoraksan.jpg\n",
            "https://templetiming.com/wp-content/uploads/2019/12/Sonar-Gouranga-Temple-768x1024.jpg\n",
            "http://1.bp.blogspot.com/_Oi0kGZAA0U0/TGgCRwWXQQI/AAAAAAAAA4w/vXeoUWtXDsA/s1600/TARA+TARINI+HILL+SHRINE+with+sky.jpg\n",
            "https://i.ytimg.com/vi/xyJC2kyBte4/maxresdefault.jpg\n",
            "https://3.bp.blogspot.com/-UQlwJJC5300/VzKLgB6lkII/AAAAAAAARVk/QXBt0d_vVIYZImgE_gBvDRMLoFgJF1e3ACLcB/s1600/Binikei.jpg\n",
            "http://upload.wikimedia.org/wikipedia/commons/3/3b/Cheondang_Waterfall_at_Seoraksan.jpg\n",
            "https://candidasabalitour.com/wp-content/uploads/cepung-waterfall.jpg\n",
            "https://2.bp.blogspot.com/_bvsjxq8RJNs/TQ9_2ndh5_I/AAAAAAAAAAc/-NV0HeK4uWo/s1600/7.jpg\n",
            "https://odishatour.in/wp-content/uploads/2021/04/DERJANG-DAM-MAJHIKAANGUL2.jpg\n",
            "https://www.mysambalpur.in/wp-content/uploads/maa-samaleswari-mandir.jpg\n",
            "https://www.nomadicweekends.com/wp-content/uploads/2018/12/Daringbadi-Offbeat-Orissa-1.jpg\n",
            "http://www.go2india.in/orissa/images/b-gupteswar-temple.jpg\n",
            "http://jcnewsandneighbor.com/wp-content/uploads/2018/12/WingedDeer.jpeg\n",
            "http://photos.wikimapia.org/p/00/03/47/48/61_big.jpg\n",
            "http://www.tentaran.com/wp-content/uploads/2017/11/Hill-View-Park.jpg\n",
            "https://akm-img-a-in.tosshub.com/indiatoday/images/story/202104/Ezu0e4oVkAIIBUK_1200x768.jpeg?x8g0KYt7mF5VA4BCYjpoqFwzgPltlpVF&amp;size=770:433\n",
            "https://www.adotrip.com/public/images/city/large_thumb/5c3dae772bc61-Sonepur Temple.jpg\n",
            "https://media.tripinvites.com/places/khajuraho/kandariya-mahadev-temple/kandariya-mahadev-temple-in-khajuraho-featured.jpg\n",
            "https://damsafety.cwc.gov.in/ecm-includes/GalleryImages/Dam_Inspections/OR10MH0124-DAHA/main.jpg\n",
            "https://i.ytimg.com/vi/OWLxx0X--ac/maxresdefault.jpg\n",
            "https://minimalwave.com/images/artists/kuruki_372.jpg\n",
            "https://www.holidify.com/images/cmsuploads/compressed/19834070340_86aa3cda80_b_20191122125547.jpg\n",
            "https://kanaknews.com/wp-content/uploads/2020/12/37-18.jpg\n",
            "https://www.ucost.in/blog/wp-content/uploads/2016/02/regional-science-center.jpg\n",
            "https://media-cdn.tripadvisor.com/media/photo-s/11/1d/40/e5/mandasaru.jpg\n",
            "https://i1.wp.com/www.bharattemples.com/wp-content/uploads/bt/2018/12/IMG_0375-Copy.jpg?fit=1010%2C804&amp;ssl=1\n",
            "https://tourmyodisha.com/wp-content/uploads/2021/03/Nilamadhaba-temple-kantilo-odisha-tourmyodisha-2.jpg\n",
            "https://www.holidify.com/images/cmsuploads/compressed/Konark-Wheel-Front-View-10ft-2_20190416102027_20190416102046.jpg\n",
            "https://odishatour.in/wp-content/uploads/2021/09/Baghalati-Dam-Kukudakhandi-Ganjam4.jpg\n",
            "https://www.nomadicweekends.com/wp-content/uploads/2018/12/Orissa-tour-Satkosia.jpg\n",
            "https://kevinstandagephotography.files.wordpress.com/2020/03/ksp_7772.jpg?w=890\n",
            "https://i.ytimg.com/vi/ZcLmixN_DpQ/maxresdefault.jpg\n",
            "https://pragativadi.com/wp-content/uploads/2020/12/vlcsnap-2020-12-27-16h41m40s141-750x430.png\n",
            "https://cdn.siasat.com/wp-content/uploads/2020/08/2020_8img04_Aug_2020_PTI04-08-2020_000100B-1536x1078.jpg\n",
            "https://lh3.googleusercontent.com/-1iSP2Msd6sM/VTKFUTiS47I/AAAAAAAAOOI/5aXwbuCcMeU/s0/2015-04-18_18-24-43.jpg\n",
            "https://i.ytimg.com/vi/ENWz0dM-vZY/hqdefault.jpg\n",
            "https://i.ytimg.com/vi/4bfjKh6T1zs/maxresdefault.jpg\n",
            "https://ebhubaneswar.com/wp-content/uploads/2021/03/121138961_336836747620461_6974815269452183290_n-min-2.jpg\n",
            "http://www.go2india.in/orissa/images/b-gopalpur-beach.JPG\n",
            "https://i.ytimg.com/vi/0ed-qNc7h20/maxresdefault.jpg\n",
            "https://1.bp.blogspot.com/-1tmZojQbi1E/X70E2Tz9NuI/AAAAAAABa0U/L1F6Y1tDDHc_nLi25Mf7xPzv0CvdbDQBACLcBGAsYHQ/s2048/Portrait%2BView%2Bof%2BSapua%2BDam%252C%2BDhenkanal%252C%2BOdisha.jpg\n",
            "https://4.bp.blogspot.com/-MB6rFKtgtbo/WIy3fBsUnDI/AAAAAAAAQH8/-5QytmrZjBQAzw-4EtaznYBPS2f8OVCOACLcB/s1600/dhabaleswar.jpg\n",
            "https://i.ytimg.com/vi/qOBdda-Ie0k/maxresdefault.jpg\n",
            "https://i.pinimg.com/originals/b9/7a/71/b97a71de74f01c3756a065423bdcd5b1.jpg\n",
            "https://1.bp.blogspot.com/-h70kPzwF6mA/XiKsEtHAWxI/AAAAAAABdRA/Rb26xAhc-nAJ3KhSiK9TKFJEC4ESPUd1gCEwYBhgL/s1600/2017-05-03%2B%25284%2529.jpg\n",
            "https://bhubaneswartourism.in/images/places-to-visit/headers/pathani-samanta-planetarium-bhubaneswar-tourism-entry-fee-timings-holidays-reviews-header.jpg\n",
            "http://164.100.83.51/CifaForDemo/sites/default/files/Planted biotope aquarium - a unique display.JPG\n",
            "http://www.tirthayatra.org/wp-content/uploads/2018/04/Lingaraj_temple_Bhubaneswar.jpg\n",
            "https://media-cdn.tripadvisor.com/media/photo-s/16/b0/8b/45/netaji-birth-place-museum.jpg\n",
            "https://live.staticflickr.com/8540/8713130532_dffc762d77_b.jpg\n",
            "https://www.thetoptours.com/wp-content/uploads/bramheswara-temple-bhubaneswer.jpg\n",
            "https://www.trawell.in/admin/images/upload/208028504Puri_Loknath_Temple_Main.jpg\n",
            "https://www.storiesbysoumya.com/wp-content/uploads/2021/02/Ratnagiri-Odisha-Main-Entrance.jpg\n",
            "http://static2.businessinsider.com/image/53e8f38decad04e14f35c061/the-25-most-popular-tourist-attractions-in-the-world.jpg\n",
            "https://www.tripiwiki.com/images/places/uploads/Khandadhar-Falls-Sundargarh676638.jpg\n",
            "http://www.nativeplanet.com/photos/600x450/2013/07/_13730178980.jpg\n",
            "https://odishatourism.gov.in/content/dam/tourism/home/discover/attractions/museum/odisha-state-museum/gallery/2.jpg\n",
            "https://upload.wikimedia.org/wikipedia/commons/thumb/9/90/Dokrichanchara_at_Kalahandi.jpg/800px-Dokrichanchara_at_Kalahandi.jpg\n",
            "https://i.ytimg.com/vi/hwrEHRRz_ME/maxresdefault.jpg\n",
            "http://media-cache-ak0.pinimg.com/originals/18/85/4e/18854e1bddc212069b15ac5c22a7c6dd.jpg\n",
            "http://upload.wikimedia.org/wikipedia/commons/7/77/Le_temple_de_Brihadishwara_(Tanjore%2C_Inde)_(14354574611).jpg\n",
            "http://www.indiamike.com/files/images/01/74/21/satkosia-gorge-sanctuary-tikarpara-orissa-.jpg\n",
            "https://3.bp.blogspot.com/-piBpK2H4m1w/WljYjQ5-E8I/AAAAAAAABLM/-nwjWS2oiz81pjKpXN7Kiwea-wd8EZzxACLcBGAs/s1600/ludu%2B1%2Bt2o.jpg\n",
            "https://images.assettype.com/indynetwork%2F2020-03%2Fc4136b79-105e-4ddb-9f00-bd71dde5c4f0%2F320px_Museum_at_Kichakeswari_Temple.jpg?w=1170\n",
            "https://www.outlookindia.com/outlooktraveller/public/uploads/articles/explore/shutterstock_1262870944.jpg\n",
            "http://www.eodisa.com/wp-content/uploads/2020/06/index-1.jpg\n",
            "https://2.bp.blogspot.com/-9EGmbwwXqEw/VGs5iGYGr1I/AAAAAAAAAqo/L2SRi5HIQkM/s1600/DSCN2476~1.jpg\n",
            "http://3.bp.blogspot.com/-K8TeZHC9azM/VUnLJblbzBI/AAAAAAAAAR4/_4tjM5MARng/s1600/Khasada.JPG\n",
            "https://i.pinimg.com/originals/b9/a5/63/b9a563289ffa371474188d5e18b3e543.jpg\n",
            "https://i.ytimg.com/vi/IT_RGNS5afU/maxresdefault.jpg\n",
            "https://imgcld.yatra.com/ytimages/image/upload/v1462517235/Leh-Shanti_Stupa.jpg\n",
            "https://i.pinimg.com/originals/d3/b9/76/d3b9769959ee77986825c19c66fe4c92.jpg\n",
            "https://ebhubaneswar.com/wp-content/uploads/2020/12/ekamra-kanan-botanical-gardens-bhubaneswar-bhubaneshwar-tourist-attraction-t5r700h9t6-768x432.jpg\n",
            "https://www.outlookindia.com/outlooktraveller/public/uploads/filemanager/images/shutterstock_1268518096_5e5fc69e88c02.jpg\n",
            "https://i.pinimg.com/originals/c2/7c/dd/c27cdd0892f88e634c3201d6f9559011.jpg\n",
            "http://jcnewsandneighbor.com/wp-content/uploads/2018/12/WingedDeer.jpeg\n",
            "http://indiagetaways.co.in/wp-content/uploads/2015/07/Nandankanan-National-Park-Source-flickr.jpg\n",
            "https://www.shadowsgalore.com/wp-content/uploads/2017/11/Mukteswara_Temple3.jpg\n",
            "https://odishatour.in/wp-content/uploads/2021/10/Putudi-Waterfall-Kandhamal.jpg\n",
            "https://www.revv.co.in/blogs/wp-content/uploads/2021/05/State-Tribal-Museum-1024x685.jpg\n",
            "https://static.toiimg.com/photo/78365955/odisha.jpg?width=748&amp;resize=4\n",
            "https://upload.wikimedia.org/wikipedia/commons/thumb/a/ae/Barabati_fort_at_cuttack.jpg/1200px-Barabati_fort_at_cuttack.jpg\n",
            "https://www.gosahin.com/go/p/i/1565518498_parasurameswara-temple-1.jpg\n",
            "https://www.tripsavvy.com/thmb/3pNFFiPbSTcg-CgGNE8Wx_NsyqM=/3559x2357/filters:fill(auto,1)/_DSC0713_Snapseed_Darkroom-819d0b229974460e8141622c4494e2ed.jpg\n",
            "https://www.holidify.com/images/bgImages/TIKARPADA-WILDLIFE-SANCTUARY.jpg\n",
            "http://blog.karmagawa.com/wp-content/uploads/2021/03/Similipal-National-Park-2.jpeg\n",
            "https://cdn.collider.com/wp-content/uploads/2015/09/visit-movie-image-3.jpg\n",
            "http://static2.businessinsider.com/image/53e8f38decad04e14f35c061/the-25-most-popular-tourist-attractions-in-the-world.jpg\n",
            "http://www.famousplacesinindia.in/Waterfalls/Images/Dassam-Waterfalls/Dassam-Waterfalls-2.jpg\n",
            "https://media-cdn.tripadvisor.com/media/photo-s/18/40/af/f6/hirni-falls.jpg\n",
            "https://www.deshvidesh.com/wp-content/uploads/2018/05/Shree-Shakti-Mandir.jpg\n",
            "https://i.ytimg.com/vi/LoplZt9hk90/maxresdefault.jpg\n",
            "https://images.livehindustan.com/uploadimage/library/16_9/16_9_1/DIGITAL_RANI_FALL1_1501149443_1501149443.JPG\n",
            "https://thementalclub.com/wp-content/uploads/2017/09/Bhatinda-Falls.jpg\n",
            "https://i.ytimg.com/vi/ee1ANb4hswI/maxresdefault.jpg\n",
            "https://3.bp.blogspot.com/-sw0AkgoBtic/WLEhlmQaIHI/AAAAAAAAPXM/iLKczcnwSasqtAaFPqEoAQjQu_B9ZzuFACEw/s1600/gp.jpg\n",
            "https://www.zamxahotels.com/guides/wp-content/uploads/2020/01/muri-okunola-park-vi-lagos-images-min-1024x592.jpg\n",
            "https://blog.railyatri.in/wp-content/uploads/2019/01/Palamu-Fort.png\n",
            "https://preview.redd.it/06lq93ujma911.jpg?width=960&amp;crop=smart&amp;auto=webp&amp;s=db91b3a21673542dde5b077b3f3636897cf2d38c\n",
            "https://tripinfi.com/wp-content/uploads/2020/07/baidyanath-dham-1-1200x582.jpg\n",
            "https://thumbs.dreamstime.com/z/power-station-bhumibol-dam-thailand-power-station-bhumibol-dam-thailand-dam-situated-126537615.jpg\n",
            "https://ropeways.com/wp-content/uploads/2019/04/3-5.jpg\n",
            "https://static.toiimg.com/thumb/msid-68587152,width-1070,height-580,imgsize-1,resizemode-6,overlay-toi_sw,pt-32,y_pad-40/photo.jpg\n",
            "https://i.ytimg.com/vi/pg575XmDoDE/maxresdefault.jpg\n",
            "https://media.tripinvites.com/places/netarhat/lower-ghaghri-waterfalls/lower-ghaghri-waterfalls-featured.jpg\n",
            "https://assets.yogananda.org/_1280xAUTO_crop_center-center_90/YSS-Smriti_Mandir_128.jpg\n",
            "https://assets.telegraphindia.com/telegraph/0fe175fb-6753-459c-a664-15c207b95280.jpg\n",
            "https://luxecaribbeanproperties.com/sites/default/files/imagecache/gallerylargeimg/property_primary/15701-Green Pond%2C St. Andrew%2C Barbados DSC_1188-(1).jpg\n",
            "http://3.bp.blogspot.com/-z75aCQBX4Ps/UdMkmbRDpvI/AAAAAAAAAX8/S-lB8JPBZlo/s1600/chit-chat.gif\n",
            "http://cdn.findmessages.com/images/2016/05/1667-gayatri-mandir-in-boriavi-gujarat.jpg\n",
            "https://www.researchgate.net/profile/Matthew-Curtis-10/publication/319397888/figure/fig1/AS:581458984968192@1515642033220/Regional-map-showing-Garu-and-other-historic-village-sites.png\n",
            "https://i.pinimg.com/originals/7c/50/fd/7c50fd5bb6b13cc79c5972e41806a3e2.jpg\n",
            "https://cdn.meditainment.com/www/images/dmImage/SourceImage/city-park.jpg\n",
            "http://2.bp.blogspot.com/-Vgxl6hBBR0s/VoIqWkEOQpI/AAAAAAAAAPY/cJzrkhvlo_c/s1600/Shikharji-Panch-Tirthi.jpg\n",
            "http://im.hunt.in/cg/Ranchi/City-Guide/Ranchi-Science4.jpeg\n",
            "https://i.ytimg.com/vi/ht8lrSA6E6M/maxresdefault.jpg\n",
            "https://www.helloprabhu.com/wp-content/uploads/2021/06/Usri-falls-waterfall-jharkhand-giridih-trip-ride-harihar-dham-3.jpg\n",
            "https://i.pinimg.com/originals/9c/2f/f6/9c2ff6f5fe589a01482c5563f24a5639.jpg\n",
            "https://indiaclimatedialogue.net/wp-content/uploads/2019/10/02-Jalsar-Ahar-Siur-Nawada-Bihar.jpg\n",
            "https://3.bp.blogspot.com/-6Gzze0qAdF0/XBdEZHfqvlI/AAAAAAAAASs/Fsw-852N6uwcaAtBJ9p52iq_3DnBiFQNwCLcBGAs/s1600/IMG_20181124_164640.jpg\n",
            "https://i.ytimg.com/vi/zbhfMLqwYrA/maxresdefault.jpg\n",
            "https://www.touristplaces.net.in/images/pp/5/p108007.jpg\n",
            "http://4.bp.blogspot.com/-RVsXkR3iNYU/UTODk_W2ghI/AAAAAAAAAJg/F6uwLu2f_GA/s1600/McCluskie-3.jpg\n",
            "https://i.ytimg.com/vi/5ghG2ONkj0g/maxresdefault.jpg\n",
            "http://3.bp.blogspot.com/-fUanH2YTsmU/UKXlIa2CktI/AAAAAAAAAKs/136PguKxDrg/s1600/View-of-Sun-Temple.jpg\n",
            "https://i.ytimg.com/vi/HVnHfZFO8eE/hqdefault.jpg\n",
            "https://c2.staticflickr.com/6/5210/5253650266_d8d93645c9_b.jpg\n",
            "http://3.bp.blogspot.com/-OfT-PcgsCNY/VCMIWAjw62I/AAAAAAAAAPM/dlSuSO0ksdY/w1200-h630-p-k-no-nu/DSC_0423.JPG\n",
            "https://media-cdn.tripadvisor.com/media/photo-s/05/56/97/88/hudco-lake-telco.jpg\n",
            "https://i2.wp.com/tripinfi.com/wp-content/uploads/2019/06/amadubi-rural-tourism.jpg?ssl=1\n",
            "https://assets.telegraphindia.com/telegraph/17f68c6f-7499-4779-bd6a-fcf1e575d7fa.jpg\n",
            "http://1.bp.blogspot.com/_guUlz54Qmko/TT4PBnqaupI/AAAAAAAAAiw/9T-10vJk9CE/s1600/31+100_3697.jpg\n",
            "https://www.adotrip.com/public/images/city/master_images/5e3bbd5d91919-Netarhat_Package_Tour.jpg\n",
            "https://media-cdn.tripadvisor.com/media/photo-s/05/95/96/7d/beautiful-place.jpg\n",
            "http://photos.wikimapia.org/p/00/03/78/73/75_big.jpg\n",
            "https://i.ytimg.com/vi/aMAi6s8dL0c/maxresdefault.jpg\n",
            "https://thementalclub.com/wp-content/uploads/2017/08/Palamu-Tiger-Reserve-600x437.gif\n",
            "https://www.gosahin.com/go/p/e/1532809117_Naulakha-Temple1.jpg\n",
            "https://dms05.dimu.org/image/0236JRmkaEGc?dimension=1200x1200\n",
            "https://media.tripinvites.com/places/jamshedpur/rankini-mandir/rankini-mandir-featured.jpg\n",
            "https://www.ranchiblog.in/wp-content/uploads/2019/03/perwaghagh-falls-ranchi-2.png\n",
            "http://www.visitmacedonranges.com/wp-content/uploads/2016/04/Sanatorium-Lake-Mt-Macedon-1442x1080.jpg\n",
            "https://i.ytimg.com/vi/c68CSgKTtrs/maxresdefault.jpg\n",
            "http://3.bp.blogspot.com/-d4BooMb5RZQ/UfiClT9zceI/AAAAAAAAAFE/ENWm0HTO550/s1600/watermark.jpg\n",
            "https://www.holidify.com/images/cmsuploads/compressed/vsdvdsv_20190308140424.jpg\n",
            "https://i.ytimg.com/vi/K-vwOHLkuic/maxresdefault.jpg\n",
            "https://www.jagranimages.com/images/newimg/09012021/09_01_2021-08man91_21253153_51252.jpg\n",
            "https://do9f0cpkv689t.cloudfront.net/SFImage/Images/610x380-13b29f3e313a06dce84b1ff000062a8f2.jpg\n",
            "https://media.tripinvites.com/places/ranchi/biodiversity-park/visitors-on-the-pathway-surrounded-by-greeneries-featured.jpg\n",
            "https://blogscdn.thehut.net/wp-content/uploads/sites/479/2018/12/12230110/Step1.jpg\n",
            "http://im.hunt.in/cg/Ranchi/City-Guide/Birsa-Park.jpg\n",
            "https://live.staticflickr.com/361/30992391263_16eb2cf9ea.jpg\n",
            "https://i.ytimg.com/vi/PorSeWPdrcY/maxresdefault.jpg\n",
            "https://i.ytimg.com/vi/BD4AzQKBarA/maxresdefault.jpg\n",
            "https://i.ytimg.com/vi/TTs0R6TGs-s/maxresdefault.jpg\n",
            "https://i.pinimg.com/originals/97/32/97/973297e5804f70aae8fa44ec867884c6.jpg\n",
            "https://i.pinimg.com/736x/60/c6/dc/60c6dc190b7337f7570b5f3f4804d862.jpg\n",
            "https://thementalclub.com/wp-content/uploads/2017/08/Bhagwa-Kuan-600x322.jpg\n",
            "https://media-cdn.tripadvisor.com/media/photo-s/11/aa/30/0f/khandoli-park.jpg\n",
            "https://i.ytimg.com/vi/e8am67c7mYI/maxresdefault.jpg\n",
            "http://www.famousplacesinindia.in/Dams/Images/Konar-Dam/Konar-Dam-1.jpg\n",
            "https://i.ytimg.com/vi/fqug783RKzQ/maxresdefault.jpg\n",
            "https://cdn2.img.sputniknews.com/images/106575/33/1065753328.jpg\n",
            "https://5.imimg.com/data5/SELLER/Default/2021/2/VZ/OU/BF/85408917/swami-vivekananda-statue.jpg\n",
            "https://media-cdn.tripadvisor.com/media/photo-s/1a/eb/2b/ab/upper-ghagri-waterfall.jpg\n",
            "https://img1.advisor.travel/2280x900px-Panchghagh_Falls_1.jpg\n",
            "https://sky119191.b-cdn.net/wp-content/uploads/2021/06/d-suleman-tasks-2021-articles-june-2021-bahria-hi.jpeg\n",
            "https://assets.telegraphindia.com/telegraph/0fe175fb-6753-459c-a664-15c207b95280.jpg\n",
            "https://cdn1.goibibo.com/voy_ing/t_fs/shimla-state-museum-147614282788o.jpeg\n",
            "https://assets.telegraphindia.com/telegraph/2020/Oct/1602348524_10jampark-1.jpg\n",
            "https://assets.telegraphindia.com/telegraph/2021/Jun/1623611932_state3.jpg\n",
            "http://www.famousplacesinindia.in/Parks/Images/Nakshatra-Van/Nakshatra-Van-1.jpg\n",
            "https://media.tripinvites.com/places/bokaro/jawaharlal-nehru-biological-park/beautiful-view-of-the-park-featured.jpg\n",
            "https://i.ytimg.com/vi/c68CSgKTtrs/maxresdefault.jpg\n",
            "https://i.ytimg.com/vi/ou_Gl3XCYws/maxresdefault.jpg\n",
            "https://www.traveltourguru.in/wp-content/uploads/2020/08/Hazaribagh-Wildlife-Sanctuary.jpg\n",
            "http://1.bp.blogspot.com/-KozBLaFvrWo/Un4Cs3MgyNI/AAAAAAAAD_A/Bqwm6ee_BF0/s1600/Konark-sun-temple1.jpg\n",
            "https://st3.depositphotos.com/10898506/13559/i/950/depositphotos_135594962-stock-photo-waterfalls-nature-lodh-falls-burhaghat.jpg\n",
            "https://media-cdn.tripadvisor.com/media/photo-s/1a/eb/2d/58/koel-view-point.jpg\n",
            "https://www.tripsavvy.com/thmb/3pNFFiPbSTcg-CgGNE8Wx_NsyqM=/3559x2357/filters:fill(auto,1)/_DSC0713_Snapseed_Darkroom-819d0b229974460e8141622c4494e2ed.jpg\n",
            "https://www.holidify.com/images/cmsuploads/compressed/7190236144_65a4d3f83c_b_20190116141249.jpg\n",
            "https://3.bp.blogspot.com/-4kfWchFmPwE/TyN3Zw5u0sI/AAAAAAAAAAw/mT_ANdF6AjQ/s1600/Deogharjharkhand.jpg\n",
            "http://www.famousplacesinindia.in/Waterfalls/Images/Usri-Falls/Usri-Falls-1.jpg\n",
            "https://1.bp.blogspot.com/-Rd_A_YQQRGA/YGnCW_fowvI/AAAAAAAAYIo/EK0E8-CjfH0hxTg0yqiVYWq2t03gv48EQCLcBGAsYHQ/s16000/20210404_184730.jpg\n",
            "https://www.gosahin.com/go/p/e/1532787666_Hundru-Falls1.jpg\n",
            "http://4.bp.blogspot.com/_ySn51OmHSZE/R-55EVwO96I/AAAAAAAAAIU/NvuyEBjMdZ4/w1200-h630-p-k-no-nu/Ranchi+Lake.jpg\n",
            "https://www.traveltourguru.in/wp-content/uploads/2020/08/Betla-National-Park.jpg\n",
            "http://www.famousplacesinindia.in/Wildlife-Sanctuaries/Images/Dalma-Wildlife-Sanctuary/Dalma-Wildlife-Sanctuary-1.jpg\n",
            "https://media-cdn.tripadvisor.com/media/photo-s/0e/5e/c0/46/drone-shot-of-the-valley.jpg\n",
            "https://media-cdn.tripadvisor.com/media/photo-s/0e/6c/48/15/entrance.jpg\n",
            "https://imgcld.yatra.com/ytimages/image/upload/v1475729036/Ranchi_Tagore_Hill.jpg\n",
            "https://images.thequint.com/thequint/2020-08/28b0e132-1cc3-48ec-82b0-3de68debc160/Ram_Mandir_5.jpg?rect=0%2C0%2C700%2C394&amp;auto=format%2Ccompress&amp;fmt=webp&amp;w=1200\n",
            "https://i.ytimg.com/vi/vXsHIzjQEmc/maxresdefault.jpg\n",
            "https://www.holidify.com/images/bgImages/UTTAR-PRADESH.jpg\n",
            "https://www.tourmyindia.com/states/arunachalpradesh/images/bomdila-monastery1.jpg\n",
            "http://famousplacesinindia.in/Monasteries/Images/Tawang-Monastery/Tawang-Monastery-1.jpg\n",
            "http://www.famousplacesinindia.in/Wildlife-Sanctuaries/Images/Daying-Ering-Wildlife-Sanctuary/Daying-Ering-Wildlife-Sanctuary-1.jpg\n",
            "https://alchetron.com/cdn/mehao-wildlife-sanctuary-73b05990-524e-46d1-9d4c-43cdf117e58-resize-750.jpeg\n",
            "https://i.pinimg.com/736x/5c/4f/59/5c4f59894b4637d98a5d55fac958d7d2--mandala.jpg\n",
            "https://i.ytimg.com/vi/6Wb-CjkiX20/maxresdefault.jpg\n",
            "https://www.time8.in/wp-content/uploads/2020/07/maxresdefault-9.jpg\n",
            "https://unseennortheastindia.com/wp-content/uploads/2020/06/Pongging-Hanging-Bridge-2.jpg\n",
            "https://i.pinimg.com/originals/1c/4e/84/1c4e84ac6161016c83969adbbfbeea40.jpg\n",
            "https://i.redd.it/yefs6zgadjz21.jpg\n",
            "https://i.ytimg.com/vi/ZVGuGOeHpFA/maxresdefault.jpg\n",
            "https://korbah.com/media/2020/04/15965531_971891199611163_3979563412515617657_n-870x555.jpg\n",
            "https://www.tripsavvy.com/thmb/UpC_wepZsq5ppyx-aD2-Y_UUdFc=/2121x1414/filters:no_upscale():max_bytes(150000):strip_icc()/GettyImages-637521196-5bb8b750c9e77c00515a857d.jpg\n",
            "https://thaibutterflies.com/wp-content/uploads/2019/12/Sakteng-Wildlife-Sanctuary-2.jpg\n",
            "https://dynamic-media-cdn.tripadvisor.com/media/photo-o/1b/65/8c/1a/resort-facilities-right.jpg?w=900&amp;h=-1&amp;s=1\n",
            "https://www.oyorooms.com/travel-guide/wp-content/uploads/2019/07/Trying-White-Water-Rafting-on-the-Kameng-River-in-Arunachal-Pradesh-1.jpg\n",
            "https://i.pinimg.com/originals/10/d0/b6/10d0b6a1f62986fa642dd23db67f05cb.jpg\n",
            "https://www.exoticexpeditions.org/wp-content/uploads/2015/10/ne44-1024x505.jpg\n",
            "https://www.time8.in/time-to-pose-raneghat-bridge-in-pasighat-gets-a-photography-point/cropped-EE9_jE8XsAAFbc-.jpg\n",
            "https://blog.mygov.in/wp-content/uploads/2018/07/Inside-Pic-1.png\n",
            "https://i.pinimg.com/originals/10/d0/b6/10d0b6a1f62986fa642dd23db67f05cb.jpg\n",
            "https://dynamic-media-cdn.tripadvisor.com/media/photo-o/05/e0/ff/69/shikra-jungle-stay.jpg?w=900&amp;h=-1&amp;s=1\n",
            "https://dynamic.tourtravelworld.com/hotspot-images/malinithan-temple-4638.jpg\n",
            "https://pix10.agoda.net/hotelImages/298/2987351/2987351_17101822440057983763.jpg?s=1024x768\n",
            "https://img.theculturetrip.com/1440x807/smart/wp-content/uploads/2015/12/pangsau.jpg\n",
            "https://wanderingtalestraveldreams.files.wordpress.com/2017/12/likabali-iron-bridge.jpg?w=2048\n",
            "https://www.mondaygotravel.com/wp-content/uploads/2019/11/Autumn-in-Korea_Yangzhou-Nari-Park_bobo-grass-sky-1024x576.jpg\n",
            "http://www.famousplacesinindia.in/Bridges/Images/Patum-Bridge/Patum-Bridge-1.jpg\n",
            "http://www.weekendthrill.com/wp-content/uploads/2016/07/Kaziranga-National-Park-compressed.jpg\n",
            "http://naturechronicles.com/images/MishmiII5531_nc.jpg\n",
            "https://i.ytimg.com/vi/ewFNL8FJYTI/maxresdefault.jpg\n",
            "https://www.gosahin.com/go/p/e/1528610363_Bumla-Pass5.jpg\n",
            "https://www.sentinelassam.com/wp-content/uploads/2018/08/Siang-River.jpg\n",
            "https://www.dangerousroads.org/images/stories/__Roads00000eh/Mayudia Pass0.jpg\n",
            "https://i.ytimg.com/vi/NzfP-U0YBtY/maxresdefault.jpg\n",
            "https://www.holidify.com/images/bgImages/DIBRU-SAIKHOWA-NATIONAL-PARK.jpg\n",
            "https://www.transindiatravels.com/wp-content/uploads/bomdila-view-point.jpg\n",
            "https://i.ytimg.com/vi/YP-Y3Ole2wk/hqdefault.jpg\n",
            "https://cdn.s3waas.gov.in/s38e296a067a37563370ded05f5a3bf3ec/uploads/2018/03/2018030772-e1521615759876-1024x768.jpg\n",
            "https://st1.photogallery.ind.sh/wp-content/uploads/indiacom/kune-waterfall-at-lonavla-in-pune-maharashtra-201606-1466599129-650x510.jpg\n",
            "https://assets.telegraphindia.com/telegraph/7fa867c9-7a3b-40e8-adbb-f209f11e5b72.jpg\n",
            "https://www.adotrip.com/public/images/city/5e2fcf19678cc-Bhalukpong_Sightseeing.jpg\n",
            "https://www.indiatourism.guide/wp-content/uploads/2020/05/nameri-national-ppark-popular-national-park-1200x417.jpg\n",
            "https://preview.redd.it/u8535fznirm41.jpg?auto=webp&amp;s=8ca21879e4285ddc527111ac4f3e6bcdf1a00ff5\n",
            "https://www.nativeplanet.com/img/2018/05/sela-pass-arunachal-pradesh-1525785580.jpg\n",
            "https://pbs.twimg.com/profile_images/1013856360004554754/RJsE486r_400x400.jpg\n",
            "https://i.pinimg.com/originals/5a/80/0d/5a800d8a01aa49aca49171e5fd83501a.jpg\n",
            "http://4.bp.blogspot.com/-FND0STwX_Tk/TrZ8JEpU2vI/AAAAAAAABzM/XgjhpOCUoWk/s1600/DSC_1013.JPG\n",
            "https://i.pinimg.com/originals/57/2d/87/572d87d261ff3d3028e98060dd6f00fd.jpg\n",
            "https://dhirajphotography.files.wordpress.com/2021/02/139576006_4817942491609417_7612178830006330275_o.jpg\n",
            "https://bacri.org/wp-content/uploads/2019/02/archaeology-1.jpg\n",
            "https://i1.wp.com/www.littlebhutan.com/wp-content/uploads/2013/04/Paro-Taktsang-Tigers-Nest.jpg?fit=1200%2C788&amp;ssl=1\n",
            "https://upload.wikimedia.org/wikipedia/en/thumb/e/eb/NHPC_Logo.svg/1200px-NHPC_Logo.svg.png\n",
            "https://images.fineartamerica.com/images/artworkimages/mediumlarge/1/glow-over-picture-lake-jon-glaser.jpg\n",
            "https://lh5.googleusercontent.com/p/AF1QipOK1u5iBjRFpJQh75n1uFb056_2Y68D16yo_Dzc=w1080-k-no\n",
            "https://st1.photogallery.ind.sh/wp-content/uploads/indiacom/kune-waterfall-at-lonavla-in-pune-maharashtra-201606-1466599129-650x510.jpg\n",
            "https://memorableindia.com/blog/wp-content/uploads/2020/03/basar.jpg\n",
            "https://d27k8xmh3cuzik.cloudfront.net/wp-content/uploads/2017/09/A-bird-sitting-on-a-tree-in-Eaglenest-Wildlife-Sanctuary-ss04082017.jpg\n",
            "https://images.fineartamerica.com/images/artworkimages/mediumlarge/3/american-world-war-ii-cemetery-in-italy-marcy-wielfaert.jpg\n",
            "https://chinatown.sg/wp-content/uploads/2020/06/ann-siang-hill-park.jpg\n",
            "https://2.bp.blogspot.com/-_lE9Y0WvI5E/WLC_9QEFhtI/AAAAAAAAFV4/aSC1BvKCEfwiiMC2-1pQQOybZrStHV2IACLcB/s1600/DSC02432.jpg\n",
            "https://i.pinimg.com/originals/8b/35/b5/8b35b5bcec19b07b70464e2045cc86c5.jpg\n",
            "https://www.tourmyindia.com/states/arunachalpradesh/images/kalachakra-gompa1.jpg\n",
            "https://i.ytimg.com/vi/nI1eOFgDiXI/maxresdefault.jpg\n",
            "https://i.ytimg.com/vi/XD5N__TGXmk/maxresdefault.jpg\n",
            "http://www.famousplacesinindia.in/Lakes/Images/Mehao-Lake/Mehao-Lake-1.jpg\n",
            "https://assets.telegraphindia.com/telegraph/2e06da26-5139-481c-a9b7-4d04a5bb8a14.jpg\n",
            "https://1.bp.blogspot.com/-9opyy9Pc5cA/XCBfyTKJPCI/AAAAAAABUeU/mj7liCn5n-wgQzojdb31TRR633cPSf9XQCLcBGAs/s1600/IMG_1417.JPG\n",
            "https://i2.wp.com/www.naina.co/wp-content/uploads/2016/04/Naina.co-Luxury-Lifestyle-Travel-Photographer-EyesForArunachal-Menchuka-Dorjeeling-01.jpg?resize=768%2C497\n",
            "https://media-cdn.tripadvisor.com/media/photo-s/11/b1/86/b9/20171231-121709-largejpg.jpg\n",
            "https://www.gozocabs.com/blog/wp-content/uploads/2018/06/Talley-Valley-Wildlife-Sanctuary.png\n",
            "https://tripnetra.com/blog/wp-content/uploads/2017/12/Dibang-wildlife-sanctuary.jpg\n",
            "https://www.thetoptours.com/wp-content/uploads/nuranang-falls-3-1067x800.jpg\n",
            "https://live.staticflickr.com/7159/6821642155_7fd7831402_b.jpg\n",
            "https://www.devdiscourse.com/remote.axd?https://devdiscourse.blob.core.windows.net/devnews/10_12_2020_16_58_18_4501491.jpg?width=920&amp;format=jpeg\n",
            "https://media-cdn.tripadvisor.com/media/photo-s/03/c4/62/b8/sally-lake.jpg\n",
            "https://cdn1.goibibo.com/voy_ing/t_fs/shimla-state-museum-147614282788o.jpeg\n",
            "http://www.vizagtourism.org.in/images/places-to-visit/header/indira-gandhi-zoological-park-vizag-tourism-entry-fee-timings-holidays-reviews-header.jpg\n",
            "https://i.pinimg.com/originals/d5/b3/89/d5b3899f64476b0232c5113be64818fa.jpg\n",
            "https://www.cadillacfairview.com/content/dam/cnc/ui/gallery/CF Polo Park/141020-Winnipeg-4250a.jpg/_jcr_content/renditions/cq5dam.web.1280.1280.jpeg\n",
            "https://www.mountain-forecast.com/system/images/22145/large/Gori-Chen.jpg?1462775362\n",
            "https://static-blog.treebo.com/wp-content/uploads/2019/08/Panga-Teng-Tso-Lake-Tawang.jpg\n",
            "https://static2.tripoto.com/media/filter/nl/img/395815/TripDocument/1568125358_psx_20190910_194210.jpg\n",
            "https://www.esamskriti.com/photograph/1_8687.jpg\n",
            "https://i.redd.it/5cj0lcc00dez.jpg\n",
            "https://images.trvl-media.com/hotels/1000000/30000/21800/21788/e3fac4a7_z.jpg\n",
            "https://www.tourmyindia.com/states/arunachalpradesh/images/pakke-tiger-reserve1.jpg\n",
            "https://amazingarunachal.com/wp-content/uploads/2021/07/DSC5222-1-1790x1790.jpg\n",
            "https://2.bp.blogspot.com/-YYDxYdWfo94/WAdow1C7GCI/AAAAAAAAAZc/sTyLWeSBfwstPNI3mUX0Mw3hBFZG7wIOACLcB/s1600/picnic%2Bspot.jpg\n",
            "http://www.101destinations.com/wp-content/uploads/2012/07/Kakadu-National-Park.jpg\n",
            "https://www.trodly.com/pictures/attraction/4668.jpg\n",
            "https://movie.webindia123.com/movie/star/actors/regional/malayalam/Lal/Lal21.jpg\n",
            "https://i.pinimg.com/originals/e5/75/f9/e575f9810465d276fad27470a5fe1983.jpg\n",
            "http://i.huffpost.com/gen/2006764/images/o-TOURIST-facebook.jpg\n",
            "http://www.and.nic.in/fisheries/img/watermark1.gif\n",
            "https://www.game-ost.com/static/covers_soundtracks/1/4/143133_534647.jpg\n",
            "https://static.straitstimes.com.sg/s3fs-public/styles/article_pictrure_780x520_/public/articles/2021/05/11/yq-indflag-11052021.jpg?itok=F5YX32BG&amp;timestamp=1620731824\n",
            "https://2.bp.blogspot.com/-vmg3piVSFSY/UmnylQ3bsUI/AAAAAAAACkE/E0AcDw6u3Ns/s1600/Lianchhiari+lunglen+tlang+Dungtlang-4.jpg\n",
            "https://i.ytimg.com/vi/ZMQ9MpoQXtc/hq2.jpg?sqp=-oaymwEoCOADEOgC8quKqQMcGADwAQH4Ac4FgAKACooCDAgAEAEYQiBhKGUwDw==&amp;rs=AOn4CLDDV9t4wSURqs0IN_NlrGlasG8ouQ\n",
            "https://www.hotelscombined.in/rimg/dimg/d9/d5/7859c4ac-city-51708-16e6fc93645.jpg?width=1366&amp;height=768&amp;xhint=2179&amp;yhint=1911&amp;crop=true\n",
            "https://content.phuket101.net/wp-content/uploads/20190124233651/karon-viewpoint-phuket.jpg\n",
            "https://www.holidaytravel.co/uploaded_files/destination_img/2016_3857efa2d2e5b3bthe-tajul-masjid-bhopal-tourist-guide.jpg\n",
            "https://i.ytimg.com/vi/8-X-d_Y15Z4/hq2.jpg?sqp=-oaymwEoCOADEOgC8quKqQMcGADwAQH4Ac4FgAKACooCDAgAEAEYYSBlKFEwDw==&amp;rs=AOn4CLBlPTudcgSNgxkB4ye-P5lvAd2ueA\n",
            "https://www.adotrip.com/public/images/city/master_images/5e4a7cda08ab6-Narmada_State_Attractions.jpg\n",
            "https://denizlimetropol.com/uploads/images/news/turkiye-kapali-para-politikasina-dogru-gidiyor-6306640-news-image-1657279326.jpg\n",
            "https://memorableindia.com/blog/wp-content/uploads/2019/05/Tripura.jpg\n",
            "https://i.pinimg.com/originals/fc/7d/b8/fc7db8f07f52c1034ca9eae259fdf2e9.jpg\n",
            "https://blog.railyatri.in/wp-content/uploads/2018/07/Beitlingchhip-Peak.png\n",
            "https://i0.wp.com/1.bp.blogspot.com/-kQMQiWEBgj4/V3YbSqhIFSI/AAAAAAAAA9A/zLTFfdhVnJ0FrzI0-xmfXVF9T9meOnafQCLcB/s1600/Amulya-during-Male-movie-press-meet-%25288%25295667.JPG?w=1000&amp;ssl=1\n",
            "https://blog.railyatri.in/wp-content/uploads/2018/09/Kalpeni-Island.png\n",
            "https://images.thrillophilia.com/image/upload/s--EyLMCvcl--/c_fill,f_auto,fl_strip_profile,g_auto,h_600,q_auto,w_975/v1/images/photos/000/285/434/original/1590581262_shutterstock_684663172.jpg.jpg?1590581262\n",
            "http://www.tnhglobal.com/wp-content/uploads/2018/07/Lakshadweep.jpg\n",
            "https://nagalandgk.com/wp-content/uploads/2020/11/nagaland-state-government-logo.png\n",
            "https://img.discogs.com/Kftmn1-7jiYDrHJ-nI2yRpKPqYk=/500x500/smart/filters:strip_icc():format(jpeg):mode_rgb():quality(90)/discogs-images/A-4803252-1552130952-7672.jpeg.jpg\n",
            "https://nagalandpost.com/wp-content/uploads/2022/12/23rd-Hornbill-Festival.jpg\n",
            "https://assets.telegraphindia.com/telegraph/2021/Feb/1613759435_naga.jpg\n",
            "https://i.ytimg.com/vi/b1QU1MnsQWw/maxresdefault.jpg\n",
            "https://i.ytimg.com/vi/on9FwG1MTpQ/maxresdefault.jpg\n",
            "https://i.pinimg.com/originals/c7/b5/88/c7b5883711e496f24a460ed05b45f636.jpg\n",
            "https://static.toiimg.com/thumb/66841191/Horbill-1.jpg?width=748&amp;height=499\n",
            "https://media.gettyimages.com/photos/cadres-of-national-socialist-council-of-nagalandisak-muivah-stand-in-picture-id525085586\n",
            "https://www.chicagotribune.com/resizer/BxelDCvcwHdM621agTsJWPwQM40=/1200x799/top/arc-anglerfish-arc2-prod-tronc.s3.amazonaws.com/public/ULEPADO6URBBVMBRE4O4ZDQEQQ.jpg\n",
            "https://preview.redd.it/xt61vd3i96f41.jpg?auto=webp&amp;s=e793ae614315b2b0b677e3d3a7d53a30d877cd4b\n",
            "https://windows10spotlight.com/wp-content/uploads/2018/05/46833d4d59086ec078d9109774406e69.jpg\n",
            "http://2.bp.blogspot.com/-R25gsh_fkMs/VlHzrUKvY1I/AAAAAAAACG4/p7JdUOsxOuY/s1600/DSCF7775.JPG\n",
            "https://i.pinimg.com/originals/ad/4a/42/ad4a426834c5ee8afb12d554091ccafb.jpg\n",
            "https://static-14.sinclairstoryline.com/resources/media/c7fdc36a-7a40-4707-beed-88ea3d6e3721-large16x9_pond.JPG?1492647882759\n",
            "https://www-static.time8.in/wp-content/uploads/2019/08/cropped-WhatsApp-Image-2019-08-23-at-9.37.12-AM.jpeg\n",
            "http://yourrecipeblog.com/wp-content/uploads/2020/06/koringslaai-gidein-reg.jpg\n",
            "https://easternmirrornagaland.com/wp-content/uploads/2020/10/Thilixu-Sub-centre-768x487.jpg\n",
            "https://4.bp.blogspot.com/-FvrclsvdD7k/WUayMP6nv6I/AAAAAAAAFDY/0wVXOKDAvW8v-LTt8P_xdRNbfPj0QrfYQCEwYBhgL/s1600/doyang-dam-photo-wokha-5.jpg\n",
            "https://i.pinimg.com/originals/0c/e7/07/0ce707e9377118801d8e2c4ed2844ea4.jpg\n"
          ]
        }
      ]
    },
    {
      "cell_type": "markdown",
      "source": [
        "**categories**"
      ],
      "metadata": {
        "id": "IhPxu7e9nHwa"
      }
    },
    {
      "cell_type": "code",
      "source": [
        "def pilgrimage(df):\n",
        "  df.loc[df['categoryName'] == 'Hindu temple', 'categoryName'] = 'Pilgrimage'\n",
        "  df.loc[df['categoryName'] == 'Buddhist temple', 'categoryName'] = 'Pilgrimage'\n",
        "  df.loc[df['categoryName'] == 'Pagoda', 'categoryName'] = 'Pilgrimage'\n",
        "  df.loc[df['categoryName'] == 'Church', 'categoryName'] = 'Pilgrimage'\n",
        "  df.loc[df['categoryName'] == 'Catholic church', 'categoryName'] = 'Pilgrimage'\n",
        "  df.loc[df['categoryName'] == 'Jain temple', 'categoryName'] = 'Pilgrimage'\n",
        "  df.loc[df['categoryName'] == 'Cathedral', 'categoryName'] = 'Pilgrimage'\n",
        "  df.loc[df['categoryName'] == 'Shrine', 'categoryName'] = 'Pilgrimage'\n",
        "  df.loc[df['categoryName'] == 'Gurudwara', 'categoryName'] = 'Pilgrimage'\n",
        "  df.loc[df['categoryName'] == 'Mosque', 'categoryName'] = 'Pilgrimage'\n",
        "  df.loc[df['categoryName'] == 'Religious destination', 'categoryName'] = 'Pilgrimage'\n",
        "  df.loc[df['categoryName'] == 'Bahá\\'í house of worship', 'categoryName'] = 'Pilgrimage'\n",
        "  df.loc[df['categoryName'] == 'Anglican church', 'categoryName'] = 'Pilgrimage'\n",
        "  df.loc[df['categoryName'] == 'Monastery', 'categoryName'] = 'Pilgrimage'\n",
        "  df.loc[df['categoryName'] == 'Meditation center', 'categoryName'] = 'Pilgrimage'\n",
        "  df.loc[df['categoryName'] == 'Place of worship', 'categoryName'] = 'Pilgrimage'\n",
        "  df.loc[df['categoryName'] == 'Pilgrimage place', 'categoryName'] = 'Pilgrimage'\n",
        "  df.loc[df['categoryName'] == 'Catholic cathedral', 'categoryName'] = 'Pilgrimage'\n",
        "  df.loc[df['categoryName'] == 'Basilica', 'categoryName'] = 'Pilgrimage'\n",
        "  df.loc[df['categoryName'] == 'Cemetery', 'categoryName'] = 'Pilgrimage'\n",
        "  df.loc[df['categoryName'] == 'Tomb', 'categoryName'] = 'Pilgrimage'\n",
        "  df.loc[df['categoryName'] == 'Spiritist center', 'categoryName'] = 'Pilgrimage'\n",
        "  df.loc[df['categoryName'] == 'Religious organization', 'categoryName'] = 'Pilgrimage'\n",
        "  df.loc[df['categoryName'] == 'Protestant church', 'categoryName'] = 'Pilgrimage'\n",
        "  df.loc[df['categoryName'] == 'Religious institution', 'categoryName'] = 'Pilgrimage'\n",
        "  df.loc[df['categoryName'] == 'Christian church', 'categoryName'] = 'Pilgrimage'\n",
        "  df.loc[df['categoryName'] == 'Baptist church', 'categoryName'] = 'Pilgrimage'\n",
        "  df.loc[df['categoryName'] == 'Presbyterian church', 'categoryName'] = 'Pilgrimage'\n",
        "  return df"
      ],
      "metadata": {
        "id": "HrFOZVq-lVsB"
      },
      "execution_count": null,
      "outputs": []
    },
    {
      "cell_type": "code",
      "source": [
        "def hillstation(df):\n",
        "  df.loc[df['categoryName'] == 'Hill station', 'categoryName'] = 'Hill station'\n",
        "  df.loc[df['categoryName'] == 'Mountain peak', 'categoryName'] = 'Hill station'\n",
        "  df.loc[df['categoryName'] == 'Mountain pass', 'categoryName'] = 'Hill station'\n",
        "  df.loc[df['categoryName'] == 'Mountaineering class', 'categoryName'] = 'Hill station'\n",
        "  df.loc[df['categoryName'] == 'Mountain cable car', 'categoryName'] = 'Hill station'  \n",
        "  return df"
      ],
      "metadata": {
        "id": "s2BZitnwnTQ6"
      },
      "execution_count": null,
      "outputs": []
    },
    {
      "cell_type": "code",
      "source": [
        "def wildlife(df):\n",
        "  df.loc[df['categoryName'] == 'Bird watching area', 'categoryName'] = 'Wildlife'\n",
        "  df.loc[df['categoryName'] == 'Aquarium', 'categoryName'] = 'Wildlife'\n",
        "  df.loc[df['categoryName'] == 'Nature preserve', 'categoryName'] = 'Wildlife'\n",
        "  df.loc[df['categoryName'] == 'Zoo', 'categoryName'] = 'Wildlife'\n",
        "  df.loc[df['categoryName'] == 'National park', 'categoryName'] = 'Wildlife'\n",
        "  df.loc[df['categoryName'] == 'Wildlife and safari park', 'categoryName'] = 'Wildlife'\n",
        "  df.loc[df['categoryName'] == 'Wildlife refuge', 'categoryName'] = 'Wildlife'\n",
        "  df.loc[df['categoryName'] == 'Woods', 'categoryName'] = 'Wildlife'\n",
        "  df.loc[df['categoryName'] == 'Wildlife park', 'categoryName'] = 'Wildlife'\n",
        "  df.loc[df['categoryName'] == 'Animal protection organization', 'categoryName'] = 'Wildlife'\n",
        "  df.loc[df['categoryName'] == 'Sanctuary', 'categoryName'] = 'Wildlife'\n",
        "  df.loc[df['categoryName'] == 'National reserve', 'categoryName'] = 'Wildlife'\n",
        "  df.loc[df['categoryName'] == 'Forestry service', 'categoryName'] = 'Wildlife'\n",
        "  df.loc[df['categoryName'] == 'National forest', 'categoryName'] = 'Wildlife' \n",
        "  return df"
      ],
      "metadata": {
        "id": "ni6QJILqnVIx"
      },
      "execution_count": null,
      "outputs": []
    },
    {
      "cell_type": "code",
      "source": [
        "def adventure(df):\n",
        "  df.loc[df['categoryName'] == 'Tourist attraction', 'categoryName'] = 'Adventure'\n",
        "  df.loc[df['categoryName'] == 'Park', 'categoryName'] = 'Adventure'\n",
        "  df.loc[df['categoryName'] == 'Garden', 'categoryName'] = 'Adventure'\n",
        "  df.loc[df['categoryName'] == 'Amusement park ride', 'categoryName'] = 'Adventure'\n",
        "  df.loc[df['categoryName'] == 'Water park', 'categoryName'] = 'Adventure'\n",
        "  df.loc[df['categoryName'] == 'Scenic spot', 'categoryName'] = 'Adventure'\n",
        "  df.loc[df['categoryName'] == 'Memorial park', 'categoryName'] = 'Adventure'\n",
        "  df.loc[df['categoryName'] == 'Rafting', 'categoryName'] = 'Adventure'\n",
        "  df.loc[df['categoryName'] == 'Lake', 'categoryName'] = 'Adventure'\n",
        "  df.loc[df['categoryName'] == 'Amusement park', 'categoryName'] = 'Adventure'\n",
        "  df.loc[df['categoryName'] == 'Children\\'s amusement center', 'categoryName'] = 'Adventure'\n",
        "  df.loc[df['categoryName'] == 'Theme park', 'categoryName'] = 'Adventure'\n",
        "  df.loc[df['categoryName'] == 'Botanical garden', 'categoryName'] = 'Adventure'\n",
        "  df.loc[df['categoryName'] == 'Observatory', 'categoryName'] = 'Adventure'\n",
        "  df.loc[df['categoryName'] == 'City park', 'categoryName'] = 'Adventure'\n",
        "  df.loc[df['categoryName'] == 'Planetarium', 'categoryName'] = 'Adventure'\n",
        "  df.loc[df['categoryName'] == 'Campground', 'categoryName'] = 'Adventure'\n",
        "  df.loc[df['categoryName'] == 'Children\\'s camp', 'categoryName'] = 'Adventure'\n",
        "  df.loc[df['categoryName'] == 'Reservoir', 'categoryName'] = 'Adventure'\n",
        "  df.loc[df['categoryName'] == 'Picnic ground', 'categoryName'] = 'Adventure'\n",
        "  df.loc[df['categoryName'] == 'Holiday park', 'categoryName'] = 'Adventure'\n",
        "  df.loc[df['categoryName'] == 'Archaeological site', 'categoryName'] = 'Adventure'\n",
        "  df.loc[df['categoryName'] == 'Amusement center', 'categoryName'] = 'Adventure'\n",
        "  df.loc[df['categoryName'] == 'Ferry service', 'categoryName'] = 'Adventure'\n",
        "  df.loc[df['categoryName'] == 'Ferry terminal', 'categoryName'] = 'Adventure'\n",
        "  df.loc[df['categoryName'] == 'Technology park', 'categoryName'] = 'Adventure'\n",
        "  df.loc[df['categoryName'] == 'Fountain', 'categoryName'] = 'Adventure'\n",
        "  df.loc[df['categoryName'] == 'Cricket ground', 'categoryName'] = 'Adventure'\n",
        "  df.loc[df['categoryName'] == 'Animal park', 'categoryName'] = 'Adventure'\n",
        "  df.loc[df['categoryName'] == 'Playground', 'categoryName'] = 'Adventure'\n",
        "  df.loc[df['categoryName'] == 'Fishing lake', 'categoryName'] = 'Adventure'\n",
        "  df.loc[df['categoryName'] == 'Canal', 'categoryName'] = 'Adventure'\n",
        "  df.loc[df['categoryName'] == 'Community garden', 'categoryName'] = 'Adventure'\n",
        "  df.loc[df['categoryName'] == 'Public golf course', 'categoryName'] = 'Adventure'\n",
        "  df.loc[df['categoryName'] == 'Park & ride', 'categoryName'] = 'Adventure'\n",
        "  df.loc[df['categoryName'] == 'Mountain cabin', 'categoryName'] = 'Adventure'\n",
        "  df.loc[df['categoryName'] == 'Ecological park', 'categoryName'] = 'Adventure'\n",
        "\n",
        "  return df  "
      ],
      "metadata": {
        "id": "Qnjwo73jnWKR"
      },
      "execution_count": null,
      "outputs": []
    },
    {
      "cell_type": "code",
      "source": [
        "Historical_Places = [\n",
        "'Fortress',\n",
        " 'Historical place',\n",
        "'Historical landmark',\n",
        "'Castle',\n",
        "'Art gallery',\n",
        "'Monument',\n",
        "'Cultural center',\n",
        "'Ashram',\n",
        "'Heritage building',\n",
        " 'Heritage preservation',\n",
        "'Sculpture',\n",
        "'War memorial',\n",
        " 'Military cemetery',\n",
        "'Handicraft', \n",
        "'Cultural landmark']\n",
        "\n",
        "\n",
        "def historicalplaces(df):\n",
        "  for i in range(15):\n",
        "    df.loc[df['categoryName'] == Historical_Places[i], 'categoryName'] = 'Historical_Places'\n",
        "  return df"
      ],
      "metadata": {
        "id": "N4yo1mkKnXWB"
      },
      "execution_count": null,
      "outputs": []
    },
    {
      "cell_type": "code",
      "source": [
        "\n",
        "Museum = [\n",
        "\n",
        "'Handicraft museum',\n",
        "'Historical place museum',\n",
        "'Museum',\n",
        "'History museum',\n",
        " 'National museum',\n",
        " 'Rail museum',\n",
        "'Army museum',\n",
        "'Local history museum',\n",
        "'Archaeological museum',\n",
        "'Natural history museum',\n",
        " 'Technology museum',\n",
        "'Maritime museum',\n",
        "'Heritage museum',\n",
        "\"Children's museum\",\n",
        "'Art museum',\n",
        " 'Open air museum',\n",
        "'War museum',\n",
        "'Science museum']\n",
        "\n",
        "\n",
        "def museum(df):\n",
        "  for i in range(len(Museum)):\n",
        "    df.loc[df['categoryName'] == Museum[i], 'categoryName'] = 'Museum'\n",
        "  return df"
      ],
      "metadata": {
        "id": "H4a1Z8iHnYcR"
      },
      "execution_count": null,
      "outputs": []
    },
    {
      "cell_type": "code",
      "source": [
        "Trekking = [\n",
        "\n",
        " 'Hiking area',\n",
        "'Bridge',\n",
        "'Ravine', \n",
        "'Raft trip outfitter',\n",
        "'Swimming lake',\n",
        "'Waterfall',\n",
        "'River', \n",
        "'Farmstay', \n",
        "'Fishing pond',\n",
        "'Farm',\n",
        "'Hot spring',\n",
        "'Pond', \n",
        "'River port',\n",
        "'Camping farm']\n",
        "\n",
        "\n",
        "def trekking(df):\n",
        "  for i in range(len(Trekking)):\n",
        "    df.loc[df['categoryName'] == Trekking[i], 'categoryName'] = 'Trekking'\n",
        "  return df"
      ],
      "metadata": {
        "id": "DnVWcCUpnaF5"
      },
      "execution_count": null,
      "outputs": []
    },
    {
      "cell_type": "code",
      "source": [
        "Desert = ['Desert']\n",
        "\n",
        "\n",
        "def desert(df):\n",
        "  for i in range(len(Desert)):\n",
        "    df.loc[df['categoryName'] == Desert[i], 'categoryName'] = 'Desert'\n",
        "  return df"
      ],
      "metadata": {
        "id": "q84MC9hdndLx"
      },
      "execution_count": null,
      "outputs": []
    },
    {
      "cell_type": "code",
      "source": [
        "Others = [\n",
        "\n",
        "'Resort hotel',\n",
        "'Movie studio',\n",
        "'Market',\n",
        "'Federal government office',\n",
        "'Convention center',\n",
        " 'Homestay',\n",
        "'Manor house',\n",
        "'Stadium',\n",
        "'Andhra restaurant',\n",
        "'Non-profit organization', \n",
        "'Travel agency',  'Indoor snowcenter', \n",
        "'Exhibition and trade centre', \n",
        "'Tour agency', 'Train station', \n",
        "'Performing arts theater', \n",
        "'Tour operator', \n",
        "'Tourist information center', \n",
        "       'Sightseeing tour agency',\n",
        "      'Bus stop', \n",
        "       'Corporate office', 'Indoor lodging',        \n",
        "       'Water damage restoration service', \n",
        "        'Event venue', 'Hotel', \n",
        "        'Training centre',      \n",
        "        'Government office',       \n",
        "        'Orphanage', 'Restaurant',\n",
        "       'Vegetarian restaurant', 'South Indian restaurant', 'Food court',\n",
        "       'Wedding venue', 'Hyderabadi restaurant', 'International airport',\n",
        "       'Boat tour agency', 'Recreation center',       \n",
        "       'Tea store', 'Photography studio', 'Observation deck',\n",
        "        'Shopping mall',\n",
        "       'Business center', 'Adventure sports center', 'Shooting range',\n",
        "       'Fairground', 'Amphitheater', \n",
        "      'Shoe store', 'Spring', 'Store', 'Marina',\n",
        "       'SCUBA tour agency', 'Sports complex', \n",
        "       'Saw mill', \n",
        "       'Cruise line company', \n",
        "       'Tourism development corporation', 'State Department of Tourism',\n",
        "       'Auditorium', 'Cocktail bar', 'Cafe', 'Jewelry store',\n",
        "       'Car rental agency', 'Lounge', 'Movie theater',\n",
        "       'Punjabi restaurant', 'Night club', 'Bar', 'Bus station',\n",
        "       'Toy store', 'Brewpub', 'Dharamashala',\n",
        "       'Public university', 'Information services', 'Pizza restaurant',\n",
        "       'Escape room center', \n",
        "       'University',  'Entertainment agency',\n",
        "       'Adventure sports', 'Art school',  'Library',\n",
        "       'School', 'Spiritist center', 'Mediation service', 'Boat club',\n",
        "       'State government office', 'Water works',\n",
        "       'Hydroelectric power plant', 'City Hall',\n",
        "        'Taxi service',  'Hall',\n",
        "       'Landmark', 'Information and referral services', 'Music store',\n",
        "       'Cremation service', 'Coal supplier', 'Lodge',\n",
        "       'Water',  'Biryani restaurant', 'Clothing store',\n",
        "       'Community center', 'Hypermarket', 'Manufacturer',\n",
        "       'Coaching center', 'Organic shop', 'Gym', 'Barbecue restaurant',\n",
        "       'Grocery store', 'Parking lot', 'Electronics store',\n",
        "       'Association or organization',  'Computer store',\n",
        "       'Guest house', 'Polo club',\n",
        "       'Fast food restaurant',\n",
        "       'Korean restaurant', \n",
        "       'University department', \n",
        "       'Monument maker', \n",
        "       'Lodging', 'Men\\'s clothing store',\n",
        "       'Handicraft exporter', 'Provincial council',\n",
        "       'Research institute', 'Family restaurant', 'Tea manufacturer',\n",
        "       'Elevated', 'Boat rental service', 'Media company',\n",
        "       'Houseboat rental service', 'Transportation service',\n",
        "       'Cruise agency', 'Transportation infrastructure',\n",
        "       'Seafood restaurant', 'Regional airport', 'Dive shop',\n",
        "       'Supermarket', 'Inn', 'Cottage rental'\n",
        "       ]\n",
        "\n",
        "\n",
        "\n",
        "\n",
        "def others(df):\n",
        "  for i in range(len(Others)):\n",
        "    df.loc[df['categoryName'] == Others[i], 'categoryName'] = 'Others'\n",
        "  return df"
      ],
      "metadata": {
        "id": "eZa8NUp5naH5"
      },
      "execution_count": null,
      "outputs": []
    },
    {
      "cell_type": "code",
      "source": [
        "def beach(df):\n",
        "    df.loc[df['categoryName'] == 'Public beach', 'categoryName'] = 'Beach'\n",
        "    df.loc[df['categoryName'] == 'Beach pavillion', 'categoryName'] = 'Beach'\n",
        "    return df\n"
      ],
      "metadata": {
        "id": "eO-TQJcNnxBp"
      },
      "execution_count": null,
      "outputs": []
    },
    {
      "cell_type": "code",
      "source": [
        "travel_data = pilgrimage(travel_data)\n",
        "travel_data = hillstation(travel_data)\n",
        "travel_data = wildlife(travel_data)\n",
        "travel_data = adventure(travel_data)\n",
        "travel_data = historicalplaces(travel_data)\n",
        "travel_data = museum(travel_data)\n",
        "travel_data = trekking(travel_data)\n",
        "travel_data = desert(travel_data)\n",
        "travel_data = others(travel_data)\n",
        "travel_data = beach(travel_data)\n"
      ],
      "metadata": {
        "id": "UtS9FncVsjKh"
      },
      "execution_count": null,
      "outputs": []
    },
    {
      "cell_type": "code",
      "source": [
        "travel_data['categoryName'].value_counts()"
      ],
      "metadata": {
        "colab": {
          "base_uri": "https://localhost:8080/"
        },
        "id": "08PCI08Js8dq",
        "outputId": "744dd38f-539f-449a-eaff-c8bc723502d3"
      },
      "execution_count": null,
      "outputs": [
        {
          "output_type": "execute_result",
          "data": {
            "text/plain": [
              "Adventure            1347\n",
              "Pilgrimage            580\n",
              "Others                495\n",
              "Historical_Places     302\n",
              "Wildlife              214\n",
              "Museum                175\n",
              "Trekking               68\n",
              "Beach                  37\n",
              "Hill station           35\n",
              "Island                 32\n",
              "Desert                  1\n",
              "Name: categoryName, dtype: int64"
            ]
          },
          "metadata": {},
          "execution_count": 37
        }
      ]
    },
    {
      "cell_type": "code",
      "source": [
        "travel_data['imageUrls'].isnull().sum()"
      ],
      "metadata": {
        "colab": {
          "base_uri": "https://localhost:8080/"
        },
        "id": "qFEDc5ZrtGrg",
        "outputId": "7c43d84c-5b6a-44d1-aaad-b373528e327c"
      },
      "execution_count": 80,
      "outputs": [
        {
          "output_type": "execute_result",
          "data": {
            "text/plain": [
              "0"
            ]
          },
          "metadata": {},
          "execution_count": 80
        }
      ]
    },
    {
      "cell_type": "code",
      "source": [],
      "metadata": {
        "id": "6NoawOtetzh1"
      },
      "execution_count": null,
      "outputs": []
    },
    {
      "cell_type": "code",
      "source": [
        "travel_data.to_excel('final_full_state_wise_data.xlsx', index=False)\n"
      ],
      "metadata": {
        "id": "D-g8RlBGnaJx"
      },
      "execution_count": 81,
      "outputs": []
    },
    {
      "cell_type": "code",
      "source": [
        "cols = ['title','subTitle','imageUrls','categoryName','description','address','city','state','neighborhood',\n",
        "   'reviewsTags', 'totalScore']"
      ],
      "metadata": {
        "id": "XqDhkIEUrDsq"
      },
      "execution_count": 82,
      "outputs": []
    },
    {
      "cell_type": "code",
      "source": [
        "final_travel_data = pd.DataFrame(travel_data, columns=cols)\n"
      ],
      "metadata": {
        "id": "iW8GFgeWuhvC"
      },
      "execution_count": 83,
      "outputs": []
    },
    {
      "cell_type": "code",
      "source": [
        "final_travel_data.shape"
      ],
      "metadata": {
        "id": "LTUTKbP1naLr",
        "colab": {
          "base_uri": "https://localhost:8080/"
        },
        "outputId": "6b433bf9-42f4-4565-9f7f-9bec5e616996"
      },
      "execution_count": 84,
      "outputs": [
        {
          "output_type": "execute_result",
          "data": {
            "text/plain": [
              "(3286, 11)"
            ]
          },
          "metadata": {},
          "execution_count": 84
        }
      ]
    },
    {
      "cell_type": "code",
      "source": [
        "final_travel_data.to_excel('trained_state_wise_data.xlsx', index=False)"
      ],
      "metadata": {
        "id": "AJWoJdCMu071"
      },
      "execution_count": 85,
      "outputs": []
    },
    {
      "cell_type": "code",
      "source": [
        "final_travel_data['title'].isnull().sum()"
      ],
      "metadata": {
        "id": "tbQhqLI0vXPR",
        "outputId": "2f798a55-581e-4dfb-b358-42ea136fa99f",
        "colab": {
          "base_uri": "https://localhost:8080/"
        }
      },
      "execution_count": 86,
      "outputs": [
        {
          "output_type": "execute_result",
          "data": {
            "text/plain": [
              "0"
            ]
          },
          "metadata": {},
          "execution_count": 86
        }
      ]
    },
    {
      "cell_type": "code",
      "source": [],
      "metadata": {
        "id": "bjEshqsqvacG"
      },
      "execution_count": null,
      "outputs": []
    }
  ]
}